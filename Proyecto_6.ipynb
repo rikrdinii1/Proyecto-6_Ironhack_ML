{
 "cells": [
  {
   "cell_type": "code",
   "execution_count": 1,
   "metadata": {
    "ExecuteTime": {
     "end_time": "2021-02-12T00:30:47.918981Z",
     "start_time": "2021-02-12T00:30:43.061446Z"
    }
   },
   "outputs": [],
   "source": [
    "import pandas as pd\n",
    "import numpy as np\n",
    "import matplotlib.pyplot as plt\n",
    "import seaborn as sns\n",
    "\n",
    "# Reg Logistica\n",
    "from sklearn.linear_model import LogisticRegression\n",
    "from sklearn.model_selection import train_test_split \n",
    "\n",
    "#para feature engineering\n",
    "from sklearn.preprocessing import StandardScaler\n",
    "from feature_engine.encoding import OneHotEncoder, CountFrequencyEncoder, OrdinalEncoder, RareLabelEncoder\n",
    "from feature_engine import imputation as mdi\n",
    "from feature_engine.discretisation import EqualFrequencyDiscretiser\n",
    "\n",
    "sns.set()"
   ]
  },
  {
   "cell_type": "markdown",
   "metadata": {
    "heading_collapsed": true
   },
   "source": [
    "# Carga de Datos"
   ]
  },
  {
   "cell_type": "code",
   "execution_count": 2,
   "metadata": {
    "ExecuteTime": {
     "end_time": "2021-02-12T00:30:48.157044Z",
     "start_time": "2021-02-12T00:30:47.924982Z"
    },
    "hidden": true
   },
   "outputs": [
    {
     "data": {
      "text/html": [
       "<div>\n",
       "<style scoped>\n",
       "    .dataframe tbody tr th:only-of-type {\n",
       "        vertical-align: middle;\n",
       "    }\n",
       "\n",
       "    .dataframe tbody tr th {\n",
       "        vertical-align: top;\n",
       "    }\n",
       "\n",
       "    .dataframe thead th {\n",
       "        text-align: right;\n",
       "    }\n",
       "</style>\n",
       "<table border=\"1\" class=\"dataframe\">\n",
       "  <thead>\n",
       "    <tr style=\"text-align: right;\">\n",
       "      <th></th>\n",
       "      <th>city</th>\n",
       "      <th>city_development_index</th>\n",
       "      <th>gender</th>\n",
       "      <th>relevent_experience</th>\n",
       "      <th>enrolled_university</th>\n",
       "      <th>education_level</th>\n",
       "      <th>major_discipline</th>\n",
       "      <th>experience</th>\n",
       "      <th>company_size</th>\n",
       "      <th>company_type</th>\n",
       "      <th>last_new_job</th>\n",
       "      <th>training_hours</th>\n",
       "      <th>target</th>\n",
       "    </tr>\n",
       "    <tr>\n",
       "      <th>enrollee_id</th>\n",
       "      <th></th>\n",
       "      <th></th>\n",
       "      <th></th>\n",
       "      <th></th>\n",
       "      <th></th>\n",
       "      <th></th>\n",
       "      <th></th>\n",
       "      <th></th>\n",
       "      <th></th>\n",
       "      <th></th>\n",
       "      <th></th>\n",
       "      <th></th>\n",
       "      <th></th>\n",
       "    </tr>\n",
       "  </thead>\n",
       "  <tbody>\n",
       "    <tr>\n",
       "      <th>8949</th>\n",
       "      <td>city_103</td>\n",
       "      <td>0.920</td>\n",
       "      <td>Male</td>\n",
       "      <td>Has relevent experience</td>\n",
       "      <td>no_enrollment</td>\n",
       "      <td>Graduate</td>\n",
       "      <td>STEM</td>\n",
       "      <td>&gt;20</td>\n",
       "      <td>NaN</td>\n",
       "      <td>NaN</td>\n",
       "      <td>1</td>\n",
       "      <td>36</td>\n",
       "      <td>1.0</td>\n",
       "    </tr>\n",
       "    <tr>\n",
       "      <th>29725</th>\n",
       "      <td>city_40</td>\n",
       "      <td>0.776</td>\n",
       "      <td>Male</td>\n",
       "      <td>No relevent experience</td>\n",
       "      <td>no_enrollment</td>\n",
       "      <td>Graduate</td>\n",
       "      <td>STEM</td>\n",
       "      <td>15</td>\n",
       "      <td>50-99</td>\n",
       "      <td>Pvt Ltd</td>\n",
       "      <td>&gt;4</td>\n",
       "      <td>47</td>\n",
       "      <td>0.0</td>\n",
       "    </tr>\n",
       "    <tr>\n",
       "      <th>11561</th>\n",
       "      <td>city_21</td>\n",
       "      <td>0.624</td>\n",
       "      <td>NaN</td>\n",
       "      <td>No relevent experience</td>\n",
       "      <td>Full time course</td>\n",
       "      <td>Graduate</td>\n",
       "      <td>STEM</td>\n",
       "      <td>5</td>\n",
       "      <td>NaN</td>\n",
       "      <td>NaN</td>\n",
       "      <td>never</td>\n",
       "      <td>83</td>\n",
       "      <td>0.0</td>\n",
       "    </tr>\n",
       "    <tr>\n",
       "      <th>33241</th>\n",
       "      <td>city_115</td>\n",
       "      <td>0.789</td>\n",
       "      <td>NaN</td>\n",
       "      <td>No relevent experience</td>\n",
       "      <td>NaN</td>\n",
       "      <td>Graduate</td>\n",
       "      <td>Business Degree</td>\n",
       "      <td>&lt;1</td>\n",
       "      <td>NaN</td>\n",
       "      <td>Pvt Ltd</td>\n",
       "      <td>never</td>\n",
       "      <td>52</td>\n",
       "      <td>1.0</td>\n",
       "    </tr>\n",
       "    <tr>\n",
       "      <th>21651</th>\n",
       "      <td>city_176</td>\n",
       "      <td>0.764</td>\n",
       "      <td>NaN</td>\n",
       "      <td>Has relevent experience</td>\n",
       "      <td>Part time course</td>\n",
       "      <td>Graduate</td>\n",
       "      <td>STEM</td>\n",
       "      <td>11</td>\n",
       "      <td>NaN</td>\n",
       "      <td>NaN</td>\n",
       "      <td>1</td>\n",
       "      <td>24</td>\n",
       "      <td>1.0</td>\n",
       "    </tr>\n",
       "  </tbody>\n",
       "</table>\n",
       "</div>"
      ],
      "text/plain": [
       "                 city  city_development_index gender      relevent_experience  \\\n",
       "enrollee_id                                                                     \n",
       "8949         city_103                   0.920   Male  Has relevent experience   \n",
       "29725         city_40                   0.776   Male   No relevent experience   \n",
       "11561         city_21                   0.624    NaN   No relevent experience   \n",
       "33241        city_115                   0.789    NaN   No relevent experience   \n",
       "21651        city_176                   0.764    NaN  Has relevent experience   \n",
       "\n",
       "            enrolled_university education_level major_discipline experience  \\\n",
       "enrollee_id                                                                   \n",
       "8949              no_enrollment        Graduate             STEM        >20   \n",
       "29725             no_enrollment        Graduate             STEM         15   \n",
       "11561          Full time course        Graduate             STEM          5   \n",
       "33241                       NaN        Graduate  Business Degree         <1   \n",
       "21651          Part time course        Graduate             STEM         11   \n",
       "\n",
       "            company_size company_type last_new_job  training_hours  target  \n",
       "enrollee_id                                                                 \n",
       "8949                 NaN          NaN            1              36     1.0  \n",
       "29725              50-99      Pvt Ltd           >4              47     0.0  \n",
       "11561                NaN          NaN        never              83     0.0  \n",
       "33241                NaN      Pvt Ltd        never              52     1.0  \n",
       "21651                NaN          NaN            1              24     1.0  "
      ]
     },
     "execution_count": 2,
     "metadata": {},
     "output_type": "execute_result"
    }
   ],
   "source": [
    "# Primero cargamos los datos y ponemos el ID como indice para que no nos estorbe posteriormente. \n",
    "df = pd.read_csv('z_train.csv')\n",
    "df.set_index('enrollee_id', inplace=True, drop=True)\n",
    "df.head()"
   ]
  },
  {
   "cell_type": "code",
   "execution_count": 3,
   "metadata": {
    "ExecuteTime": {
     "end_time": "2021-02-12T00:30:48.222058Z",
     "start_time": "2021-02-12T00:30:48.164043Z"
    },
    "hidden": true
   },
   "outputs": [
    {
     "data": {
      "text/plain": [
       "experience              0.326243\n",
       "enrolled_university     1.970508\n",
       "last_new_job            2.211927\n",
       "education_level         2.407673\n",
       "major_discipline       14.596111\n",
       "gender                 23.496020\n",
       "company_size           30.888686\n",
       "company_type           31.913089\n",
       "dtype: float64"
      ]
     },
     "execution_count": 3,
     "metadata": {},
     "output_type": "execute_result"
    }
   ],
   "source": [
    "# Obtenemos el porcentaje de datos nulos por cada variable (lo hacemos funcion para poder llamarlo recurrentemente)\n",
    "def porcentaje_nulos(df):\n",
    "    nulos = (df.isnull().mean())*100\n",
    "    return nulos[nulos>0].sort_values(ascending=True)\n",
    "\n",
    "porcentaje_nulos(df)"
   ]
  },
  {
   "cell_type": "code",
   "execution_count": 4,
   "metadata": {
    "ExecuteTime": {
     "end_time": "2021-02-12T00:30:48.301114Z",
     "start_time": "2021-02-12T00:30:48.228059Z"
    },
    "hidden": true
   },
   "outputs": [
    {
     "data": {
      "text/plain": [
       "city                       object\n",
       "city_development_index    float64\n",
       "gender                     object\n",
       "relevent_experience        object\n",
       "enrolled_university        object\n",
       "education_level            object\n",
       "major_discipline           object\n",
       "experience                 object\n",
       "company_size               object\n",
       "company_type               object\n",
       "last_new_job               object\n",
       "training_hours              int64\n",
       "target                    float64\n",
       "dtype: object"
      ]
     },
     "execution_count": 4,
     "metadata": {},
     "output_type": "execute_result"
    }
   ],
   "source": [
    "df.dtypes"
   ]
  },
  {
   "cell_type": "markdown",
   "metadata": {
    "ExecuteTime": {
     "end_time": "2021-02-11T23:40:50.501990Z",
     "start_time": "2021-02-11T23:40:50.482983Z"
    },
    "heading_collapsed": true
   },
   "source": [
    "# Analisis Variables que podemos convertir a Numero"
   ]
  },
  {
   "cell_type": "markdown",
   "metadata": {
    "hidden": true
   },
   "source": [
    "### Experiencia"
   ]
  },
  {
   "cell_type": "code",
   "execution_count": 5,
   "metadata": {
    "ExecuteTime": {
     "end_time": "2021-02-12T00:30:48.380096Z",
     "start_time": "2021-02-12T00:30:48.307079Z"
    },
    "hidden": true
   },
   "outputs": [
    {
     "data": {
      "text/html": [
       "<div>\n",
       "<style scoped>\n",
       "    .dataframe tbody tr th:only-of-type {\n",
       "        vertical-align: middle;\n",
       "    }\n",
       "\n",
       "    .dataframe tbody tr th {\n",
       "        vertical-align: top;\n",
       "    }\n",
       "\n",
       "    .dataframe thead th {\n",
       "        text-align: right;\n",
       "    }\n",
       "</style>\n",
       "<table border=\"1\" class=\"dataframe\">\n",
       "  <thead>\n",
       "    <tr style=\"text-align: right;\">\n",
       "      <th></th>\n",
       "      <th>experience</th>\n",
       "    </tr>\n",
       "    <tr>\n",
       "      <th>experience</th>\n",
       "      <th></th>\n",
       "    </tr>\n",
       "  </thead>\n",
       "  <tbody>\n",
       "    <tr>\n",
       "      <th>1</th>\n",
       "      <td>440</td>\n",
       "    </tr>\n",
       "    <tr>\n",
       "      <th>10</th>\n",
       "      <td>793</td>\n",
       "    </tr>\n",
       "    <tr>\n",
       "      <th>11</th>\n",
       "      <td>538</td>\n",
       "    </tr>\n",
       "    <tr>\n",
       "      <th>12</th>\n",
       "      <td>384</td>\n",
       "    </tr>\n",
       "    <tr>\n",
       "      <th>13</th>\n",
       "      <td>304</td>\n",
       "    </tr>\n",
       "    <tr>\n",
       "      <th>14</th>\n",
       "      <td>479</td>\n",
       "    </tr>\n",
       "    <tr>\n",
       "      <th>15</th>\n",
       "      <td>553</td>\n",
       "    </tr>\n",
       "    <tr>\n",
       "      <th>16</th>\n",
       "      <td>420</td>\n",
       "    </tr>\n",
       "    <tr>\n",
       "      <th>17</th>\n",
       "      <td>281</td>\n",
       "    </tr>\n",
       "    <tr>\n",
       "      <th>18</th>\n",
       "      <td>225</td>\n",
       "    </tr>\n",
       "    <tr>\n",
       "      <th>19</th>\n",
       "      <td>235</td>\n",
       "    </tr>\n",
       "    <tr>\n",
       "      <th>2</th>\n",
       "      <td>905</td>\n",
       "    </tr>\n",
       "    <tr>\n",
       "      <th>20</th>\n",
       "      <td>113</td>\n",
       "    </tr>\n",
       "    <tr>\n",
       "      <th>3</th>\n",
       "      <td>1084</td>\n",
       "    </tr>\n",
       "    <tr>\n",
       "      <th>4</th>\n",
       "      <td>1104</td>\n",
       "    </tr>\n",
       "    <tr>\n",
       "      <th>5</th>\n",
       "      <td>1148</td>\n",
       "    </tr>\n",
       "    <tr>\n",
       "      <th>6</th>\n",
       "      <td>971</td>\n",
       "    </tr>\n",
       "    <tr>\n",
       "      <th>7</th>\n",
       "      <td>835</td>\n",
       "    </tr>\n",
       "    <tr>\n",
       "      <th>8</th>\n",
       "      <td>643</td>\n",
       "    </tr>\n",
       "    <tr>\n",
       "      <th>9</th>\n",
       "      <td>780</td>\n",
       "    </tr>\n",
       "    <tr>\n",
       "      <th>&lt;1</th>\n",
       "      <td>408</td>\n",
       "    </tr>\n",
       "    <tr>\n",
       "      <th>&gt;20</th>\n",
       "      <td>2633</td>\n",
       "    </tr>\n",
       "  </tbody>\n",
       "</table>\n",
       "</div>"
      ],
      "text/plain": [
       "            experience\n",
       "experience            \n",
       "1                  440\n",
       "10                 793\n",
       "11                 538\n",
       "12                 384\n",
       "13                 304\n",
       "14                 479\n",
       "15                 553\n",
       "16                 420\n",
       "17                 281\n",
       "18                 225\n",
       "19                 235\n",
       "2                  905\n",
       "20                 113\n",
       "3                 1084\n",
       "4                 1104\n",
       "5                 1148\n",
       "6                  971\n",
       "7                  835\n",
       "8                  643\n",
       "9                  780\n",
       "<1                 408\n",
       ">20               2633"
      ]
     },
     "execution_count": 5,
     "metadata": {},
     "output_type": "execute_result"
    }
   ],
   "source": [
    "cols = ['experience','last_new_job']\n",
    "# La columna de experiencia muestra los años de experiencia que tiene la persona. Viene dada en numero y es str debido\n",
    "# a que una de las opciones es \"mayor\" y \"menor\" que. Eliminamos los signos, convertimos en numero y los >20 los convertimos\n",
    "# en 21 y los <1 en 0.9\n",
    "experiencia = df.groupby('experience').agg({'experience':'count'})\n",
    "experiencia\n"
   ]
  },
  {
   "cell_type": "code",
   "execution_count": 6,
   "metadata": {
    "ExecuteTime": {
     "end_time": "2021-02-12T00:30:48.492125Z",
     "start_time": "2021-02-12T00:30:48.387098Z"
    },
    "hidden": true
   },
   "outputs": [
    {
     "data": {
      "text/html": [
       "<div>\n",
       "<style scoped>\n",
       "    .dataframe tbody tr th:only-of-type {\n",
       "        vertical-align: middle;\n",
       "    }\n",
       "\n",
       "    .dataframe tbody tr th {\n",
       "        vertical-align: top;\n",
       "    }\n",
       "\n",
       "    .dataframe thead th {\n",
       "        text-align: right;\n",
       "    }\n",
       "</style>\n",
       "<table border=\"1\" class=\"dataframe\">\n",
       "  <thead>\n",
       "    <tr style=\"text-align: right;\">\n",
       "      <th></th>\n",
       "      <th>experience</th>\n",
       "    </tr>\n",
       "    <tr>\n",
       "      <th>experience</th>\n",
       "      <th></th>\n",
       "    </tr>\n",
       "  </thead>\n",
       "  <tbody>\n",
       "    <tr>\n",
       "      <th>0.9</th>\n",
       "      <td>408</td>\n",
       "    </tr>\n",
       "    <tr>\n",
       "      <th>1.0</th>\n",
       "      <td>440</td>\n",
       "    </tr>\n",
       "    <tr>\n",
       "      <th>2.0</th>\n",
       "      <td>905</td>\n",
       "    </tr>\n",
       "    <tr>\n",
       "      <th>3.0</th>\n",
       "      <td>1084</td>\n",
       "    </tr>\n",
       "    <tr>\n",
       "      <th>4.0</th>\n",
       "      <td>1104</td>\n",
       "    </tr>\n",
       "    <tr>\n",
       "      <th>5.0</th>\n",
       "      <td>1148</td>\n",
       "    </tr>\n",
       "    <tr>\n",
       "      <th>6.0</th>\n",
       "      <td>971</td>\n",
       "    </tr>\n",
       "    <tr>\n",
       "      <th>7.0</th>\n",
       "      <td>835</td>\n",
       "    </tr>\n",
       "    <tr>\n",
       "      <th>8.0</th>\n",
       "      <td>643</td>\n",
       "    </tr>\n",
       "    <tr>\n",
       "      <th>9.0</th>\n",
       "      <td>780</td>\n",
       "    </tr>\n",
       "    <tr>\n",
       "      <th>10.0</th>\n",
       "      <td>793</td>\n",
       "    </tr>\n",
       "    <tr>\n",
       "      <th>11.0</th>\n",
       "      <td>538</td>\n",
       "    </tr>\n",
       "    <tr>\n",
       "      <th>12.0</th>\n",
       "      <td>384</td>\n",
       "    </tr>\n",
       "    <tr>\n",
       "      <th>13.0</th>\n",
       "      <td>304</td>\n",
       "    </tr>\n",
       "    <tr>\n",
       "      <th>14.0</th>\n",
       "      <td>479</td>\n",
       "    </tr>\n",
       "    <tr>\n",
       "      <th>15.0</th>\n",
       "      <td>553</td>\n",
       "    </tr>\n",
       "    <tr>\n",
       "      <th>16.0</th>\n",
       "      <td>420</td>\n",
       "    </tr>\n",
       "    <tr>\n",
       "      <th>17.0</th>\n",
       "      <td>281</td>\n",
       "    </tr>\n",
       "    <tr>\n",
       "      <th>18.0</th>\n",
       "      <td>225</td>\n",
       "    </tr>\n",
       "    <tr>\n",
       "      <th>19.0</th>\n",
       "      <td>235</td>\n",
       "    </tr>\n",
       "    <tr>\n",
       "      <th>20.0</th>\n",
       "      <td>113</td>\n",
       "    </tr>\n",
       "    <tr>\n",
       "      <th>21.0</th>\n",
       "      <td>2633</td>\n",
       "    </tr>\n",
       "  </tbody>\n",
       "</table>\n",
       "</div>"
      ],
      "text/plain": [
       "            experience\n",
       "experience            \n",
       "0.9                408\n",
       "1.0                440\n",
       "2.0                905\n",
       "3.0               1084\n",
       "4.0               1104\n",
       "5.0               1148\n",
       "6.0                971\n",
       "7.0                835\n",
       "8.0                643\n",
       "9.0                780\n",
       "10.0               793\n",
       "11.0               538\n",
       "12.0               384\n",
       "13.0               304\n",
       "14.0               479\n",
       "15.0               553\n",
       "16.0               420\n",
       "17.0               281\n",
       "18.0               225\n",
       "19.0               235\n",
       "20.0               113\n",
       "21.0              2633"
      ]
     },
     "execution_count": 6,
     "metadata": {},
     "output_type": "execute_result"
    }
   ],
   "source": [
    "# reemplazamos el mayor y menor que con el numero inmediato superior e inferior\n",
    "df.experience= df.experience.replace({'>20':21,'<1':0.9})\n",
    "\n",
    "# Convertimos los datos a numero y analizamos la distribucion\n",
    "df['experience']= pd.to_numeric(df['experience'])\n",
    "experiencia = df.groupby('experience').agg({'experience':'count'})\n",
    "experiencia"
   ]
  },
  {
   "cell_type": "code",
   "execution_count": 7,
   "metadata": {
    "ExecuteTime": {
     "end_time": "2021-02-12T00:30:49.595406Z",
     "start_time": "2021-02-12T00:30:48.498129Z"
    },
    "hidden": true
   },
   "outputs": [
    {
     "data": {
      "text/plain": [
       "<AxesSubplot:>"
      ]
     },
     "execution_count": 7,
     "metadata": {},
     "output_type": "execute_result"
    },
    {
     "data": {
      "image/png": "[encoded data removed]",
      "text/plain": [
       "<Figure size 432x288 with 1 Axes>"
      ]
     },
     "metadata": {},
     "output_type": "display_data"
    }
   ],
   "source": [
    "df.experience.hist()\n",
    "# Por la grafica podemos ver que no están distribuidos uniformemente los datos, además de que tenemos nulos que \n",
    "# aun hay que distribuir.\n",
    "# como los datos están sesgados, y los nulos representan menos del 5%, podemos sustiturlos por la mediana"
   ]
  },
  {
   "cell_type": "markdown",
   "metadata": {
    "ExecuteTime": {
     "end_time": "2021-02-11T23:58:57.731563Z",
     "start_time": "2021-02-11T23:58:57.717563Z"
    },
    "hidden": true
   },
   "source": [
    "### Analisis Columna last_new_job"
   ]
  },
  {
   "cell_type": "code",
   "execution_count": 8,
   "metadata": {
    "ExecuteTime": {
     "end_time": "2021-02-12T00:30:49.691430Z",
     "start_time": "2021-02-12T00:30:49.658421Z"
    },
    "hidden": true
   },
   "outputs": [
    {
     "data": {
      "text/html": [
       "<div>\n",
       "<style scoped>\n",
       "    .dataframe tbody tr th:only-of-type {\n",
       "        vertical-align: middle;\n",
       "    }\n",
       "\n",
       "    .dataframe tbody tr th {\n",
       "        vertical-align: top;\n",
       "    }\n",
       "\n",
       "    .dataframe thead th {\n",
       "        text-align: right;\n",
       "    }\n",
       "</style>\n",
       "<table border=\"1\" class=\"dataframe\">\n",
       "  <thead>\n",
       "    <tr style=\"text-align: right;\">\n",
       "      <th></th>\n",
       "      <th>last_new_job</th>\n",
       "    </tr>\n",
       "    <tr>\n",
       "      <th>last_new_job</th>\n",
       "      <th></th>\n",
       "    </tr>\n",
       "  </thead>\n",
       "  <tbody>\n",
       "    <tr>\n",
       "      <th>1</th>\n",
       "      <td>6458</td>\n",
       "    </tr>\n",
       "    <tr>\n",
       "      <th>2</th>\n",
       "      <td>2318</td>\n",
       "    </tr>\n",
       "    <tr>\n",
       "      <th>3</th>\n",
       "      <td>816</td>\n",
       "    </tr>\n",
       "    <tr>\n",
       "      <th>4</th>\n",
       "      <td>823</td>\n",
       "    </tr>\n",
       "    <tr>\n",
       "      <th>&gt;4</th>\n",
       "      <td>2627</td>\n",
       "    </tr>\n",
       "    <tr>\n",
       "      <th>never</th>\n",
       "      <td>1945</td>\n",
       "    </tr>\n",
       "  </tbody>\n",
       "</table>\n",
       "</div>"
      ],
      "text/plain": [
       "              last_new_job\n",
       "last_new_job              \n",
       "1                     6458\n",
       "2                     2318\n",
       "3                      816\n",
       "4                      823\n",
       ">4                    2627\n",
       "never                 1945"
      ]
     },
     "execution_count": 8,
     "metadata": {},
     "output_type": "execute_result"
    }
   ],
   "source": [
    "last_new_job = df.groupby('last_new_job').agg({'last_new_job':'count'})\n",
    "last_new_job\n",
    "# Aqui podemos convertir el 'never' en 0 y tambien podemos convertirla en numero."
   ]
  },
  {
   "cell_type": "code",
   "execution_count": 9,
   "metadata": {
    "ExecuteTime": {
     "end_time": "2021-02-12T00:30:50.871646Z",
     "start_time": "2021-02-12T00:30:50.847640Z"
    },
    "hidden": true
   },
   "outputs": [],
   "source": [
    "df.last_new_job= df.last_new_job.replace({'>4':5,'never':0})\n",
    "df['last_new_job']= pd.to_numeric(df['last_new_job'])\n",
    "last_new_job = df.groupby('last_new_job').agg({'last_new_job':'count'})\n",
    "last_new_job"
   ]
  },
  {
   "cell_type": "code",
   "execution_count": 10,
   "metadata": {
    "ExecuteTime": {
     "end_time": "2021-02-12T00:30:52.524873Z",
     "start_time": "2021-02-12T00:30:52.480865Z"
    },
    "hidden": true
   },
   "outputs": [
    {
     "data": {
      "text/html": [
       "<div>\n",
       "<style scoped>\n",
       "    .dataframe tbody tr th:only-of-type {\n",
       "        vertical-align: middle;\n",
       "    }\n",
       "\n",
       "    .dataframe tbody tr th {\n",
       "        vertical-align: top;\n",
       "    }\n",
       "\n",
       "    .dataframe thead th {\n",
       "        text-align: right;\n",
       "    }\n",
       "</style>\n",
       "<table border=\"1\" class=\"dataframe\">\n",
       "  <thead>\n",
       "    <tr style=\"text-align: right;\">\n",
       "      <th></th>\n",
       "      <th>last_new_job</th>\n",
       "    </tr>\n",
       "    <tr>\n",
       "      <th>last_new_job</th>\n",
       "      <th></th>\n",
       "    </tr>\n",
       "  </thead>\n",
       "  <tbody>\n",
       "    <tr>\n",
       "      <th>0.0</th>\n",
       "      <td>1945</td>\n",
       "    </tr>\n",
       "    <tr>\n",
       "      <th>1.0</th>\n",
       "      <td>6458</td>\n",
       "    </tr>\n",
       "    <tr>\n",
       "      <th>2.0</th>\n",
       "      <td>2318</td>\n",
       "    </tr>\n",
       "    <tr>\n",
       "      <th>3.0</th>\n",
       "      <td>816</td>\n",
       "    </tr>\n",
       "    <tr>\n",
       "      <th>4.0</th>\n",
       "      <td>823</td>\n",
       "    </tr>\n",
       "    <tr>\n",
       "      <th>5.0</th>\n",
       "      <td>2627</td>\n",
       "    </tr>\n",
       "  </tbody>\n",
       "</table>\n",
       "</div>"
      ],
      "text/plain": [
       "              last_new_job\n",
       "last_new_job              \n",
       "0.0                   1945\n",
       "1.0                   6458\n",
       "2.0                   2318\n",
       "3.0                    816\n",
       "4.0                    823\n",
       "5.0                   2627"
      ]
     },
     "execution_count": 10,
     "metadata": {},
     "output_type": "execute_result"
    }
   ],
   "source": []
  },
  {
   "cell_type": "code",
   "execution_count": 11,
   "metadata": {
    "ExecuteTime": {
     "end_time": "2021-02-12T00:30:54.194761Z",
     "start_time": "2021-02-12T00:30:53.780659Z"
    },
    "hidden": true
   },
   "outputs": [
    {
     "data": {
      "text/plain": [
       "<AxesSubplot:xlabel='last_new_job'>"
      ]
     },
     "execution_count": 11,
     "metadata": {},
     "output_type": "execute_result"
    },
    {
     "data": {
      "image/png": "[encoded data removed]",
      "text/plain": [
       "<Figure size 432x288 with 1 Axes>"
      ]
     },
     "metadata": {},
     "output_type": "display_data"
    }
   ],
   "source": [
    "last_new_job.plot()\n",
    "# Tambien podemos ver que los datos se encuentran en una distribucion no uniforme, y tenemos menos del 5% de los datos\n",
    "# como nulos, por lo que podemos proceder a sustituirlos con la mediana."
   ]
  },
  {
   "cell_type": "markdown",
   "metadata": {
    "ExecuteTime": {
     "end_time": "2021-02-12T00:06:56.765883Z",
     "start_time": "2021-02-12T00:06:56.753875Z"
    },
    "hidden": true
   },
   "source": [
    "### Sustituyendo datos con la mediana"
   ]
  },
  {
   "cell_type": "code",
   "execution_count": 12,
   "metadata": {
    "ExecuteTime": {
     "end_time": "2021-02-12T00:30:56.346337Z",
     "start_time": "2021-02-12T00:30:56.317330Z"
    },
    "hidden": true
   },
   "outputs": [
    {
     "data": {
      "text/plain": [
       "experience              0.326243\n",
       "enrolled_university     1.970508\n",
       "last_new_job            2.211927\n",
       "education_level         2.407673\n",
       "major_discipline       14.596111\n",
       "gender                 23.496020\n",
       "company_size           30.888686\n",
       "company_type           31.913089\n",
       "dtype: float64"
      ]
     },
     "execution_count": 12,
     "metadata": {},
     "output_type": "execute_result"
    }
   ],
   "source": [
    "# Validamos los nulos\n",
    "porcentaje_nulos(df)"
   ]
  },
  {
   "cell_type": "code",
   "execution_count": 13,
   "metadata": {
    "ExecuteTime": {
     "end_time": "2021-02-12T00:30:56.713431Z",
     "start_time": "2021-02-12T00:30:56.612410Z"
    },
    "hidden": true
   },
   "outputs": [
    {
     "data": {
      "text/html": [
       "<div>\n",
       "<style scoped>\n",
       "    .dataframe tbody tr th:only-of-type {\n",
       "        vertical-align: middle;\n",
       "    }\n",
       "\n",
       "    .dataframe tbody tr th {\n",
       "        vertical-align: top;\n",
       "    }\n",
       "\n",
       "    .dataframe thead th {\n",
       "        text-align: right;\n",
       "    }\n",
       "</style>\n",
       "<table border=\"1\" class=\"dataframe\">\n",
       "  <thead>\n",
       "    <tr style=\"text-align: right;\">\n",
       "      <th></th>\n",
       "      <th>city_development_index</th>\n",
       "      <th>experience</th>\n",
       "      <th>last_new_job</th>\n",
       "      <th>training_hours</th>\n",
       "      <th>target</th>\n",
       "    </tr>\n",
       "  </thead>\n",
       "  <tbody>\n",
       "    <tr>\n",
       "      <th>count</th>\n",
       "      <td>15326.000000</td>\n",
       "      <td>15276.000000</td>\n",
       "      <td>14987.000000</td>\n",
       "      <td>15326.000000</td>\n",
       "      <td>15326.000000</td>\n",
       "    </tr>\n",
       "    <tr>\n",
       "      <th>mean</th>\n",
       "      <td>0.829929</td>\n",
       "      <td>10.135782</td>\n",
       "      <td>1.999666</td>\n",
       "      <td>65.279068</td>\n",
       "      <td>0.249511</td>\n",
       "    </tr>\n",
       "    <tr>\n",
       "      <th>std</th>\n",
       "      <td>0.122668</td>\n",
       "      <td>6.738238</td>\n",
       "      <td>1.673882</td>\n",
       "      <td>60.079482</td>\n",
       "      <td>0.432744</td>\n",
       "    </tr>\n",
       "    <tr>\n",
       "      <th>min</th>\n",
       "      <td>0.448000</td>\n",
       "      <td>0.900000</td>\n",
       "      <td>0.000000</td>\n",
       "      <td>1.000000</td>\n",
       "      <td>0.000000</td>\n",
       "    </tr>\n",
       "    <tr>\n",
       "      <th>25%</th>\n",
       "      <td>0.743000</td>\n",
       "      <td>4.000000</td>\n",
       "      <td>1.000000</td>\n",
       "      <td>23.000000</td>\n",
       "      <td>0.000000</td>\n",
       "    </tr>\n",
       "    <tr>\n",
       "      <th>50%</th>\n",
       "      <td>0.910000</td>\n",
       "      <td>9.000000</td>\n",
       "      <td>1.000000</td>\n",
       "      <td>47.000000</td>\n",
       "      <td>0.000000</td>\n",
       "    </tr>\n",
       "    <tr>\n",
       "      <th>75%</th>\n",
       "      <td>0.920000</td>\n",
       "      <td>16.000000</td>\n",
       "      <td>3.000000</td>\n",
       "      <td>89.000000</td>\n",
       "      <td>0.000000</td>\n",
       "    </tr>\n",
       "    <tr>\n",
       "      <th>max</th>\n",
       "      <td>0.949000</td>\n",
       "      <td>21.000000</td>\n",
       "      <td>5.000000</td>\n",
       "      <td>336.000000</td>\n",
       "      <td>1.000000</td>\n",
       "    </tr>\n",
       "  </tbody>\n",
       "</table>\n",
       "</div>"
      ],
      "text/plain": [
       "       city_development_index    experience  last_new_job  training_hours  \\\n",
       "count            15326.000000  15276.000000  14987.000000    15326.000000   \n",
       "mean                 0.829929     10.135782      1.999666       65.279068   \n",
       "std                  0.122668      6.738238      1.673882       60.079482   \n",
       "min                  0.448000      0.900000      0.000000        1.000000   \n",
       "25%                  0.743000      4.000000      1.000000       23.000000   \n",
       "50%                  0.910000      9.000000      1.000000       47.000000   \n",
       "75%                  0.920000     16.000000      3.000000       89.000000   \n",
       "max                  0.949000     21.000000      5.000000      336.000000   \n",
       "\n",
       "             target  \n",
       "count  15326.000000  \n",
       "mean       0.249511  \n",
       "std        0.432744  \n",
       "min        0.000000  \n",
       "25%        0.000000  \n",
       "50%        0.000000  \n",
       "75%        0.000000  \n",
       "max        1.000000  "
      ]
     },
     "execution_count": 13,
     "metadata": {},
     "output_type": "execute_result"
    }
   ],
   "source": [
    "# Validamos los tipos de datos de las columnas que vamos a sustituir nulos con mediana\n",
    "df.describe()\n",
    "# ya nos aparecen en las estadisticas, por lo que podemos proceder"
   ]
  },
  {
   "cell_type": "code",
   "execution_count": 14,
   "metadata": {
    "ExecuteTime": {
     "end_time": "2021-02-12T00:30:57.174528Z",
     "start_time": "2021-02-12T00:30:57.122521Z"
    },
    "hidden": true
   },
   "outputs": [],
   "source": [
    "imp = mdi.MeanMedianImputer(imputation_method='median')\n",
    "imp.fit(df)\n",
    "\n",
    "df = imp.transform(df)"
   ]
  },
  {
   "cell_type": "code",
   "execution_count": 15,
   "metadata": {
    "ExecuteTime": {
     "end_time": "2021-02-12T00:30:57.995627Z",
     "start_time": "2021-02-12T00:30:57.972622Z"
    },
    "hidden": true
   },
   "outputs": [
    {
     "data": {
      "text/plain": [
       "enrolled_university     1.970508\n",
       "education_level         2.407673\n",
       "major_discipline       14.596111\n",
       "gender                 23.496020\n",
       "company_size           30.888686\n",
       "company_type           31.913089\n",
       "dtype: float64"
      ]
     },
     "execution_count": 15,
     "metadata": {},
     "output_type": "execute_result"
    }
   ],
   "source": [
    "# Validamos que ya no tengamos nulos en esas dos columnas\n",
    "porcentaje_nulos(df)"
   ]
  },
  {
   "cell_type": "markdown",
   "metadata": {
    "ExecuteTime": {
     "end_time": "2021-02-12T00:12:50.343112Z",
     "start_time": "2021-02-12T00:12:50.326112Z"
    },
    "heading_collapsed": true
   },
   "source": [
    "# Analisis de Columnas que no podemos convertir a numero"
   ]
  },
  {
   "cell_type": "code",
   "execution_count": 16,
   "metadata": {
    "ExecuteTime": {
     "end_time": "2021-02-12T00:31:22.581814Z",
     "start_time": "2021-02-12T00:31:22.552809Z"
    },
    "hidden": true
   },
   "outputs": [
    {
     "data": {
      "text/plain": [
       "enrolled_university     1.970508\n",
       "education_level         2.407673\n",
       "major_discipline       14.596111\n",
       "gender                 23.496020\n",
       "company_size           30.888686\n",
       "company_type           31.913089\n",
       "dtype: float64"
      ]
     },
     "execution_count": 16,
     "metadata": {},
     "output_type": "execute_result"
    }
   ],
   "source": [
    "porcentaje_nulos(df)"
   ]
  },
  {
   "cell_type": "code",
   "execution_count": 17,
   "metadata": {
    "ExecuteTime": {
     "end_time": "2021-02-12T00:31:23.644199Z",
     "start_time": "2021-02-12T00:31:23.633197Z"
    },
    "hidden": true
   },
   "outputs": [],
   "source": [
    "# por el % de nulos, unicamente podemos tratar con las columnas de 'enrolled_university' y 'education_level'\n",
    "# Para evitar generar mas columnas, vamos a usar Categorical Imputer"
   ]
  },
  {
   "cell_type": "code",
   "execution_count": 18,
   "metadata": {
    "ExecuteTime": {
     "end_time": "2021-02-12T00:31:41.138180Z",
     "start_time": "2021-02-12T00:31:41.107171Z"
    },
    "hidden": true
   },
   "outputs": [],
   "source": [
    "imp = mdi.CategoricalImputer(fill_value='Faltante')\n",
    "imp.fit(df)\n",
    "df= imp.transform(df)"
   ]
  },
  {
   "cell_type": "code",
   "execution_count": 19,
   "metadata": {
    "ExecuteTime": {
     "end_time": "2021-02-12T00:31:42.303053Z",
     "start_time": "2021-02-12T00:31:42.265044Z"
    },
    "hidden": true
   },
   "outputs": [
    {
     "data": {
      "text/plain": [
       "Series([], dtype: float64)"
      ]
     },
     "execution_count": 19,
     "metadata": {},
     "output_type": "execute_result"
    }
   ],
   "source": [
    "porcentaje_nulos(df)"
   ]
  },
  {
   "cell_type": "markdown",
   "metadata": {
    "heading_collapsed": true
   },
   "source": [
    "# Tratamiento Variables Categoricas"
   ]
  },
  {
   "cell_type": "code",
   "execution_count": 20,
   "metadata": {
    "ExecuteTime": {
     "end_time": "2021-02-12T03:46:36.647059Z",
     "start_time": "2021-02-12T03:46:36.599050Z"
    },
    "hidden": true
   },
   "outputs": [
    {
     "data": {
      "text/html": [
       "<div>\n",
       "<style scoped>\n",
       "    .dataframe tbody tr th:only-of-type {\n",
       "        vertical-align: middle;\n",
       "    }\n",
       "\n",
       "    .dataframe tbody tr th {\n",
       "        vertical-align: top;\n",
       "    }\n",
       "\n",
       "    .dataframe thead th {\n",
       "        text-align: right;\n",
       "    }\n",
       "</style>\n",
       "<table border=\"1\" class=\"dataframe\">\n",
       "  <thead>\n",
       "    <tr style=\"text-align: right;\">\n",
       "      <th></th>\n",
       "      <th>city</th>\n",
       "      <th>city_development_index</th>\n",
       "      <th>gender</th>\n",
       "      <th>relevent_experience</th>\n",
       "      <th>enrolled_university</th>\n",
       "      <th>education_level</th>\n",
       "      <th>major_discipline</th>\n",
       "      <th>experience</th>\n",
       "      <th>company_size</th>\n",
       "      <th>company_type</th>\n",
       "      <th>last_new_job</th>\n",
       "      <th>training_hours</th>\n",
       "      <th>target</th>\n",
       "    </tr>\n",
       "    <tr>\n",
       "      <th>enrollee_id</th>\n",
       "      <th></th>\n",
       "      <th></th>\n",
       "      <th></th>\n",
       "      <th></th>\n",
       "      <th></th>\n",
       "      <th></th>\n",
       "      <th></th>\n",
       "      <th></th>\n",
       "      <th></th>\n",
       "      <th></th>\n",
       "      <th></th>\n",
       "      <th></th>\n",
       "      <th></th>\n",
       "    </tr>\n",
       "  </thead>\n",
       "  <tbody>\n",
       "    <tr>\n",
       "      <th>8949</th>\n",
       "      <td>city_103</td>\n",
       "      <td>0.920</td>\n",
       "      <td>Male</td>\n",
       "      <td>Has relevent experience</td>\n",
       "      <td>no_enrollment</td>\n",
       "      <td>Graduate</td>\n",
       "      <td>STEM</td>\n",
       "      <td>21.0</td>\n",
       "      <td>Faltante</td>\n",
       "      <td>Faltante</td>\n",
       "      <td>1.0</td>\n",
       "      <td>36</td>\n",
       "      <td>1.0</td>\n",
       "    </tr>\n",
       "    <tr>\n",
       "      <th>29725</th>\n",
       "      <td>city_40</td>\n",
       "      <td>0.776</td>\n",
       "      <td>Male</td>\n",
       "      <td>No relevent experience</td>\n",
       "      <td>no_enrollment</td>\n",
       "      <td>Graduate</td>\n",
       "      <td>STEM</td>\n",
       "      <td>15.0</td>\n",
       "      <td>50-99</td>\n",
       "      <td>Pvt Ltd</td>\n",
       "      <td>5.0</td>\n",
       "      <td>47</td>\n",
       "      <td>0.0</td>\n",
       "    </tr>\n",
       "    <tr>\n",
       "      <th>11561</th>\n",
       "      <td>city_21</td>\n",
       "      <td>0.624</td>\n",
       "      <td>Faltante</td>\n",
       "      <td>No relevent experience</td>\n",
       "      <td>Full time course</td>\n",
       "      <td>Graduate</td>\n",
       "      <td>STEM</td>\n",
       "      <td>5.0</td>\n",
       "      <td>Faltante</td>\n",
       "      <td>Faltante</td>\n",
       "      <td>0.0</td>\n",
       "      <td>83</td>\n",
       "      <td>0.0</td>\n",
       "    </tr>\n",
       "    <tr>\n",
       "      <th>33241</th>\n",
       "      <td>city_115</td>\n",
       "      <td>0.789</td>\n",
       "      <td>Faltante</td>\n",
       "      <td>No relevent experience</td>\n",
       "      <td>Faltante</td>\n",
       "      <td>Graduate</td>\n",
       "      <td>Business Degree</td>\n",
       "      <td>0.9</td>\n",
       "      <td>Faltante</td>\n",
       "      <td>Pvt Ltd</td>\n",
       "      <td>0.0</td>\n",
       "      <td>52</td>\n",
       "      <td>1.0</td>\n",
       "    </tr>\n",
       "    <tr>\n",
       "      <th>21651</th>\n",
       "      <td>city_176</td>\n",
       "      <td>0.764</td>\n",
       "      <td>Faltante</td>\n",
       "      <td>Has relevent experience</td>\n",
       "      <td>Part time course</td>\n",
       "      <td>Graduate</td>\n",
       "      <td>STEM</td>\n",
       "      <td>11.0</td>\n",
       "      <td>Faltante</td>\n",
       "      <td>Faltante</td>\n",
       "      <td>1.0</td>\n",
       "      <td>24</td>\n",
       "      <td>1.0</td>\n",
       "    </tr>\n",
       "  </tbody>\n",
       "</table>\n",
       "</div>"
      ],
      "text/plain": [
       "                 city  city_development_index    gender  \\\n",
       "enrollee_id                                               \n",
       "8949         city_103                   0.920      Male   \n",
       "29725         city_40                   0.776      Male   \n",
       "11561         city_21                   0.624  Faltante   \n",
       "33241        city_115                   0.789  Faltante   \n",
       "21651        city_176                   0.764  Faltante   \n",
       "\n",
       "                 relevent_experience enrolled_university education_level  \\\n",
       "enrollee_id                                                                \n",
       "8949         Has relevent experience       no_enrollment        Graduate   \n",
       "29725         No relevent experience       no_enrollment        Graduate   \n",
       "11561         No relevent experience    Full time course        Graduate   \n",
       "33241         No relevent experience            Faltante        Graduate   \n",
       "21651        Has relevent experience    Part time course        Graduate   \n",
       "\n",
       "            major_discipline  experience company_size company_type  \\\n",
       "enrollee_id                                                          \n",
       "8949                    STEM        21.0     Faltante     Faltante   \n",
       "29725                   STEM        15.0        50-99      Pvt Ltd   \n",
       "11561                   STEM         5.0     Faltante     Faltante   \n",
       "33241        Business Degree         0.9     Faltante      Pvt Ltd   \n",
       "21651                   STEM        11.0     Faltante     Faltante   \n",
       "\n",
       "             last_new_job  training_hours  target  \n",
       "enrollee_id                                        \n",
       "8949                  1.0              36     1.0  \n",
       "29725                 5.0              47     0.0  \n",
       "11561                 0.0              83     0.0  \n",
       "33241                 0.0              52     1.0  \n",
       "21651                 1.0              24     1.0  "
      ]
     },
     "execution_count": 20,
     "metadata": {},
     "output_type": "execute_result"
    }
   ],
   "source": [
    "df.head()"
   ]
  },
  {
   "cell_type": "code",
   "execution_count": 21,
   "metadata": {
    "ExecuteTime": {
     "end_time": "2021-02-12T04:01:54.846862Z",
     "start_time": "2021-02-12T04:01:54.718826Z"
    },
    "hidden": true
   },
   "outputs": [
    {
     "data": {
      "text/plain": [
       "CountFrequencyEncoder(variables=['city', 'gender', 'relevent_experience',\n",
       "                                 'enrolled_university', 'education_level',\n",
       "                                 'major_discipline', 'company_size',\n",
       "                                 'company_type'])"
      ]
     },
     "execution_count": 21,
     "metadata": {},
     "output_type": "execute_result"
    }
   ],
   "source": [
    "# Tenemos varias variables categoricas con multiples etiquetas, por lo que vamos a convertirlas con el 'Frequency Encoding'\n",
    "# para poder agruparlas y no tener tanto ruido\n",
    "count_enc = CountFrequencyEncoder(encoding_method='count')\n",
    "count_enc.fit(df)\n",
    "\n",
    "# Analizar si con un cluster podemos analizar la informacion\n",
    "# Probar tambien con Ordinal Encoder\n",
    "# Probar tambien con Rare Label Encoding"
   ]
  },
  {
   "cell_type": "code",
   "execution_count": 22,
   "metadata": {
    "ExecuteTime": {
     "end_time": "2021-02-12T04:02:30.027238Z",
     "start_time": "2021-02-12T04:02:30.009230Z"
    },
    "hidden": true
   },
   "outputs": [
    {
     "data": {
      "text/plain": [
       "{'city': {'city_103': 3497,\n",
       "  'city_21': 2156,\n",
       "  'city_16': 1259,\n",
       "  'city_114': 1067,\n",
       "  'city_160': 670,\n",
       "  'city_136': 476,\n",
       "  'city_67': 345,\n",
       "  'city_102': 239,\n",
       "  'city_75': 239,\n",
       "  'city_104': 234,\n",
       "  'city_100': 226,\n",
       "  'city_73': 223,\n",
       "  'city_71': 215,\n",
       "  'city_11': 191,\n",
       "  'city_61': 157,\n",
       "  'city_90': 157,\n",
       "  'city_28': 153,\n",
       "  'city_23': 153,\n",
       "  'city_65': 139,\n",
       "  'city_36': 137,\n",
       "  'city_173': 117,\n",
       "  'city_83': 115,\n",
       "  'city_116': 108,\n",
       "  'city_50': 108,\n",
       "  'city_162': 105,\n",
       "  'city_46': 102,\n",
       "  'city_138': 94,\n",
       "  'city_19': 92,\n",
       "  'city_45': 90,\n",
       "  'city_64': 86,\n",
       "  'city_57': 82,\n",
       "  'city_74': 80,\n",
       "  'city_99': 78,\n",
       "  'city_159': 77,\n",
       "  'city_165': 75,\n",
       "  'city_41': 75,\n",
       "  'city_10': 74,\n",
       "  'city_149': 74,\n",
       "  'city_97': 73,\n",
       "  'city_128': 65,\n",
       "  'city_98': 63,\n",
       "  'city_123': 62,\n",
       "  'city_101': 60,\n",
       "  'city_105': 59,\n",
       "  'city_150': 58,\n",
       "  'city_40': 55,\n",
       "  'city_89': 54,\n",
       "  'city_24': 46,\n",
       "  'city_145': 45,\n",
       "  'city_142': 44,\n",
       "  'city_115': 42,\n",
       "  'city_76': 40,\n",
       "  'city_158': 38,\n",
       "  'city_13': 38,\n",
       "  'city_27': 38,\n",
       "  'city_70': 38,\n",
       "  'city_152': 37,\n",
       "  'city_91': 36,\n",
       "  'city_134': 36,\n",
       "  'city_143': 33,\n",
       "  'city_93': 26,\n",
       "  'city_77': 25,\n",
       "  'city_144': 24,\n",
       "  'city_78': 24,\n",
       "  'city_20': 24,\n",
       "  'city_126': 22,\n",
       "  'city_141': 21,\n",
       "  'city_7': 21,\n",
       "  'city_176': 21,\n",
       "  'city_14': 21,\n",
       "  'city_1': 20,\n",
       "  'city_53': 18,\n",
       "  'city_157': 18,\n",
       "  'city_26': 17,\n",
       "  'city_94': 17,\n",
       "  'city_118': 17,\n",
       "  'city_72': 17,\n",
       "  'city_84': 17,\n",
       "  'city_9': 16,\n",
       "  'city_44': 16,\n",
       "  'city_33': 15,\n",
       "  'city_69': 15,\n",
       "  'city_30': 15,\n",
       "  'city_37': 13,\n",
       "  'city_12': 13,\n",
       "  'city_175': 13,\n",
       "  'city_117': 12,\n",
       "  'city_39': 11,\n",
       "  'city_155': 11,\n",
       "  'city_54': 10,\n",
       "  'city_80': 10,\n",
       "  'city_109': 9,\n",
       "  'city_42': 9,\n",
       "  'city_48': 9,\n",
       "  'city_55': 9,\n",
       "  'city_167': 9,\n",
       "  'city_133': 8,\n",
       "  'city_43': 8,\n",
       "  'city_127': 7,\n",
       "  'city_59': 7,\n",
       "  'city_131': 7,\n",
       "  'city_180': 6,\n",
       "  'city_79': 6,\n",
       "  'city_106': 6,\n",
       "  'city_107': 6,\n",
       "  'city_146': 5,\n",
       "  'city_81': 5,\n",
       "  'city_62': 5,\n",
       "  'city_31': 4,\n",
       "  'city_166': 4,\n",
       "  'city_82': 4,\n",
       "  'city_139': 4,\n",
       "  'city_18': 3,\n",
       "  'city_120': 3,\n",
       "  'city_2': 3,\n",
       "  'city_179': 3,\n",
       "  'city_25': 3,\n",
       "  'city_129': 2,\n",
       "  'city_111': 2,\n",
       "  'city_8': 2,\n",
       "  'city_121': 1,\n",
       "  'city_140': 1,\n",
       "  'city_171': 1},\n",
       " 'gender': {'Male': 10577, 'Faltante': 3601, 'Female': 998, 'Other': 150},\n",
       " 'relevent_experience': {'Has relevent experience': 11068,\n",
       "  'No relevent experience': 4258},\n",
       " 'enrolled_university': {'no_enrollment': 11071,\n",
       "  'Full time course': 2990,\n",
       "  'Part time course': 963,\n",
       "  'Faltante': 302},\n",
       " 'education_level': {'Graduate': 9265,\n",
       "  'Masters': 3514,\n",
       "  'High School': 1607,\n",
       "  'Faltante': 369,\n",
       "  'Phd': 329,\n",
       "  'Primary School': 242},\n",
       " 'major_discipline': {'STEM': 11609,\n",
       "  'Faltante': 2237,\n",
       "  'Humanities': 530,\n",
       "  'Other': 308,\n",
       "  'Business Degree': 259,\n",
       "  'Arts': 204,\n",
       "  'No Major': 179},\n",
       " 'company_size': {'Faltante': 4734,\n",
       "  '50-99': 2448,\n",
       "  '100-500': 2059,\n",
       "  '10000+': 1653,\n",
       "  '10/49': 1173,\n",
       "  '1000-4999': 1066,\n",
       "  '<10': 1043,\n",
       "  '500-999': 707,\n",
       "  '5000-9999': 443},\n",
       " 'company_type': {'Pvt Ltd': 7873,\n",
       "  'Faltante': 4891,\n",
       "  'Funded Startup': 792,\n",
       "  'Public Sector': 773,\n",
       "  'Early Stage Startup': 489,\n",
       "  'NGO': 421,\n",
       "  'Other': 87}}"
      ]
     },
     "execution_count": 22,
     "metadata": {},
     "output_type": "execute_result"
    }
   ],
   "source": [
    "count_enc.encoder_dict_"
   ]
  },
  {
   "cell_type": "code",
   "execution_count": 23,
   "metadata": {
    "ExecuteTime": {
     "end_time": "2021-02-12T04:03:49.290008Z",
     "start_time": "2021-02-12T04:03:49.230990Z"
    },
    "hidden": true
   },
   "outputs": [],
   "source": [
    "df = count_enc.transform(df)\n",
    "df"
   ]
  },
  {
   "cell_type": "code",
   "execution_count": 25,
   "metadata": {
    "ExecuteTime": {
     "end_time": "2021-02-12T04:13:28.249610Z",
     "start_time": "2021-02-12T04:13:27.517422Z"
    },
    "hidden": true
   },
   "outputs": [
    {
     "name": "stdout",
     "output_type": "stream",
     "text": [
      "Score Test: 0.7596216568819308\n",
      "Score Train: 0.7524469820554649\n"
     ]
    }
   ],
   "source": [
    "# Regresion Logistica\n",
    "\n",
    "# Separamos los datos\n",
    "x = df.drop('target',axis=1)\n",
    "y = df['target']\n",
    "x_train, x_test, y_train, y_test = train_test_split(x,y, test_size = .2, random_state=77)\n",
    "\n",
    "# Generamos el modelo\n",
    "reg_logistica = LogisticRegression(solver='liblinear')\n",
    "reg_logistica.fit(x_train, y_train)\n",
    "\n",
    "# Generamos las predicciones\n",
    "y_pred = reg_logistica.predict(x_test)\n",
    "df_predicciones = pd.DataFrame({'Actual':y_test,'Predicted':y_pred})\n",
    "\n",
    "# Obtenemos el Score\n",
    "score_test = reg_logistica.score(x_test,y_test)\n",
    "score_train = reg_logistica.score(x_train,y_train)\n",
    "print('Score Test:',score_test)\n",
    "print('Score Train:',score_train)"
   ]
  },
  {
   "cell_type": "code",
   "execution_count": 26,
   "metadata": {
    "ExecuteTime": {
     "end_time": "2021-02-12T04:14:12.444210Z",
     "start_time": "2021-02-12T04:14:12.415205Z"
    },
    "hidden": true
   },
   "outputs": [
    {
     "data": {
      "text/html": [
       "<div>\n",
       "<style scoped>\n",
       "    .dataframe tbody tr th:only-of-type {\n",
       "        vertical-align: middle;\n",
       "    }\n",
       "\n",
       "    .dataframe tbody tr th {\n",
       "        vertical-align: top;\n",
       "    }\n",
       "\n",
       "    .dataframe thead th {\n",
       "        text-align: right;\n",
       "    }\n",
       "</style>\n",
       "<table border=\"1\" class=\"dataframe\">\n",
       "  <thead>\n",
       "    <tr style=\"text-align: right;\">\n",
       "      <th></th>\n",
       "      <th>Actual</th>\n",
       "      <th>Predicted</th>\n",
       "    </tr>\n",
       "    <tr>\n",
       "      <th>enrollee_id</th>\n",
       "      <th></th>\n",
       "      <th></th>\n",
       "    </tr>\n",
       "  </thead>\n",
       "  <tbody>\n",
       "    <tr>\n",
       "      <th>13688</th>\n",
       "      <td>1.0</td>\n",
       "      <td>0.0</td>\n",
       "    </tr>\n",
       "    <tr>\n",
       "      <th>4338</th>\n",
       "      <td>0.0</td>\n",
       "      <td>0.0</td>\n",
       "    </tr>\n",
       "    <tr>\n",
       "      <th>13864</th>\n",
       "      <td>0.0</td>\n",
       "      <td>0.0</td>\n",
       "    </tr>\n",
       "    <tr>\n",
       "      <th>6284</th>\n",
       "      <td>1.0</td>\n",
       "      <td>0.0</td>\n",
       "    </tr>\n",
       "    <tr>\n",
       "      <th>22831</th>\n",
       "      <td>0.0</td>\n",
       "      <td>0.0</td>\n",
       "    </tr>\n",
       "    <tr>\n",
       "      <th>...</th>\n",
       "      <td>...</td>\n",
       "      <td>...</td>\n",
       "    </tr>\n",
       "    <tr>\n",
       "      <th>29226</th>\n",
       "      <td>0.0</td>\n",
       "      <td>0.0</td>\n",
       "    </tr>\n",
       "    <tr>\n",
       "      <th>9780</th>\n",
       "      <td>0.0</td>\n",
       "      <td>0.0</td>\n",
       "    </tr>\n",
       "    <tr>\n",
       "      <th>1422</th>\n",
       "      <td>0.0</td>\n",
       "      <td>0.0</td>\n",
       "    </tr>\n",
       "    <tr>\n",
       "      <th>12236</th>\n",
       "      <td>0.0</td>\n",
       "      <td>0.0</td>\n",
       "    </tr>\n",
       "    <tr>\n",
       "      <th>14303</th>\n",
       "      <td>1.0</td>\n",
       "      <td>0.0</td>\n",
       "    </tr>\n",
       "  </tbody>\n",
       "</table>\n",
       "<p>3066 rows × 2 columns</p>\n",
       "</div>"
      ],
      "text/plain": [
       "             Actual  Predicted\n",
       "enrollee_id                   \n",
       "13688           1.0        0.0\n",
       "4338            0.0        0.0\n",
       "13864           0.0        0.0\n",
       "6284            1.0        0.0\n",
       "22831           0.0        0.0\n",
       "...             ...        ...\n",
       "29226           0.0        0.0\n",
       "9780            0.0        0.0\n",
       "1422            0.0        0.0\n",
       "12236           0.0        0.0\n",
       "14303           1.0        0.0\n",
       "\n",
       "[3066 rows x 2 columns]"
      ]
     },
     "execution_count": 26,
     "metadata": {},
     "output_type": "execute_result"
    }
   ],
   "source": [
    "df_predicciones"
   ]
  },
  {
   "cell_type": "markdown",
   "metadata": {
    "ExecuteTime": {
     "end_time": "2021-02-12T05:49:03.537660Z",
     "start_time": "2021-02-12T05:49:03.532657Z"
    }
   },
   "source": [
    "# Predicciones 1"
   ]
  },
  {
   "cell_type": "code",
   "execution_count": 32,
   "metadata": {
    "ExecuteTime": {
     "end_time": "2021-02-12T05:58:03.849659Z",
     "start_time": "2021-02-12T05:58:00.270947Z"
    }
   },
   "outputs": [],
   "source": [
    "test = pd.read_csv('z_test.csv')\n",
    "test.set_index('enrollee_id', inplace=True, drop=True)\n",
    "\n",
    "# reemplazamos el mayor y menor que con el numero inmediato superior e inferior\n",
    "test.experience= test.experience.replace({'>20':21,'<1':0.9})\n",
    "\n",
    "# Convertimos los datos a numero y analizamos la distribucion\n",
    "test['experience']= pd.to_numeric(test['experience'])\n",
    "\n",
    "\n",
    "test.last_new_job= test.last_new_job.replace({'>4':5,'never':0})\n",
    "test['last_new_job']= pd.to_numeric(test['last_new_job'])\n",
    "\n",
    "\n",
    "imp = mdi.MeanMedianImputer(imputation_method='median')\n",
    "imp.fit(test)\n",
    "\n",
    "test = imp.transform(test)\n",
    "\n",
    "imp = mdi.CategoricalImputer(fill_value='Faltante')\n",
    "imp.fit(test)\n",
    "test= imp.transform(test)\n",
    "\n",
    "# Tenemos varias variables categoricas con multiples etiquetas, por lo que vamos a convertirlas con el 'Frequency Encoding'\n",
    "# para poder agruparlas y no tener tanto ruido\n",
    "count_enc = CountFrequencyEncoder(encoding_method='count')\n",
    "count_enc.fit(test)\n",
    "\n",
    "# Analizar si con un cluster podemos analizar la informacion\n",
    "# Probar tambien con Ordinal Encoder\n",
    "# Probar tambien con Rare Label Encoding\n",
    "\n",
    "test = count_enc.transform(test)\n",
    "\n",
    "# Generamos las predicciones\n",
    "y_pred = reg_logistica.predict(test)\n",
    "test['target'] = y_pred\n",
    "test['target'].to_csv('prueba2.csv')"
   ]
  }
 ],
 "metadata": {
  "kernelspec": {
   "display_name": "Python 3",
   "language": "python",
   "name": "python3"
  },
  "language_info": {
   "codemirror_mode": {
    "name": "ipython",
    "version": 3
   },
   "file_extension": ".py",
   "mimetype": "text/x-python",
   "name": "python",
   "nbconvert_exporter": "python",
   "pygments_lexer": "ipython3",
   "version": "3.8.5"
  },
  "toc": {
   "base_numbering": 1,
   "nav_menu": {},
   "number_sections": true,
   "sideBar": true,
   "skip_h1_title": false,
   "title_cell": "Table of Contents",
   "title_sidebar": "Contents",
   "toc_cell": false,
   "toc_position": {},
   "toc_section_display": true,
   "toc_window_display": false
  }
 },
 "nbformat": 4,
 "nbformat_minor": 4
}
