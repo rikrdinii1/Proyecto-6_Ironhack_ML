{
 "cells": [
  {
   "cell_type": "code",
   "execution_count": 15,
   "metadata": {
    "ExecuteTime": {
     "end_time": "2021-02-27T17:26:20.074507Z",
     "start_time": "2021-02-27T17:26:20.055503Z"
    }
   },
   "outputs": [],
   "source": [
    "import pandas as pd\n",
    "import numpy as np\n",
    "import matplotlib.pyplot as plt\n",
    "import seaborn as sns\n",
    "\n",
    "# Reg Logistica\n",
    "from sklearn.linear_model import LogisticRegression\n",
    "from sklearn.model_selection import train_test_split \n",
    "\n",
    "#para feature engineering\n",
    "from sklearn.preprocessing import StandardScaler\n",
    "from feature_engine.encoding import OneHotEncoder, CountFrequencyEncoder, OrdinalEncoder, RareLabelEncoder\n",
    "from feature_engine import imputation as mdi\n",
    "from feature_engine.discretisation import EqualFrequencyDiscretiser\n",
    "from feature_engine.imputation import CategoricalImputer\n",
    "from sklearn.metrics import accuracy_score\n",
    "sns.set()"
   ]
  },
  {
   "cell_type": "markdown",
   "metadata": {
    "heading_collapsed": true
   },
   "source": [
    "# Carga de Datos"
   ]
  },
  {
   "cell_type": "code",
   "execution_count": null,
   "metadata": {
    "ExecuteTime": {
     "end_time": "2021-02-12T00:30:48.157044Z",
     "start_time": "2021-02-12T00:30:47.924982Z"
    },
    "hidden": true
   },
   "outputs": [],
   "source": [
    "# Primero cargamos los datos y ponemos el ID como indice para que no nos estorbe posteriormente. \n",
    "df = pd.read_csv('z_train.csv')\n",
    "df.set_index('enrollee_id', inplace=True, drop=True)\n",
    "df.head()"
   ]
  },
  {
   "cell_type": "code",
   "execution_count": null,
   "metadata": {
    "ExecuteTime": {
     "end_time": "2021-02-23T02:16:40.054488Z",
     "start_time": "2021-02-23T02:16:39.785422Z"
    },
    "hidden": true
   },
   "outputs": [],
   "source": [
    "# Obtenemos el porcentaje de datos nulos por cada variable (lo hacemos funcion para poder llamarlo recurrentemente)\n",
    "def porcentaje_nulos(df):\n",
    "    nulos = (df.isnull().mean())*100\n",
    "    return nulos[nulos>0].sort_values(ascending=True)\n",
    "\n",
    "porcentaje_nulos(df)"
   ]
  },
  {
   "cell_type": "code",
   "execution_count": null,
   "metadata": {
    "ExecuteTime": {
     "end_time": "2021-02-12T00:30:48.301114Z",
     "start_time": "2021-02-12T00:30:48.228059Z"
    },
    "hidden": true
   },
   "outputs": [],
   "source": [
    "df.dtypes"
   ]
  },
  {
   "cell_type": "markdown",
   "metadata": {
    "ExecuteTime": {
     "end_time": "2021-02-11T23:40:50.501990Z",
     "start_time": "2021-02-11T23:40:50.482983Z"
    },
    "heading_collapsed": true
   },
   "source": [
    "# Analisis Variables que podemos convertir a Numero"
   ]
  },
  {
   "cell_type": "markdown",
   "metadata": {
    "hidden": true
   },
   "source": [
    "### Experiencia"
   ]
  },
  {
   "cell_type": "code",
   "execution_count": null,
   "metadata": {
    "ExecuteTime": {
     "end_time": "2021-02-12T00:30:48.380096Z",
     "start_time": "2021-02-12T00:30:48.307079Z"
    },
    "hidden": true
   },
   "outputs": [],
   "source": [
    "cols = ['experience','last_new_job']\n",
    "# La columna de experiencia muestra los años de experiencia que tiene la persona. Viene dada en numero y es str debido\n",
    "# a que una de las opciones es \"mayor\" y \"menor\" que. Eliminamos los signos, convertimos en numero y los >20 los convertimos\n",
    "# en 21 y los <1 en 0.9\n",
    "experiencia = df.groupby('experience').agg({'experience':'count'})\n",
    "experiencia\n"
   ]
  },
  {
   "cell_type": "code",
   "execution_count": null,
   "metadata": {
    "ExecuteTime": {
     "end_time": "2021-02-12T00:30:48.492125Z",
     "start_time": "2021-02-12T00:30:48.387098Z"
    },
    "hidden": true
   },
   "outputs": [],
   "source": [
    "# reemplazamos el mayor y menor que con el numero inmediato superior e inferior\n",
    "df.experience= df.experience.replace({'>20':21,'<1':0.9})\n",
    "\n",
    "# Convertimos los datos a numero y analizamos la distribucion\n",
    "df['experience']= pd.to_numeric(df['experience'])\n",
    "experiencia = df.groupby('experience').agg({'experience':'count'})\n",
    "experiencia"
   ]
  },
  {
   "cell_type": "code",
   "execution_count": null,
   "metadata": {
    "ExecuteTime": {
     "end_time": "2021-02-12T00:30:49.595406Z",
     "start_time": "2021-02-12T00:30:48.498129Z"
    },
    "hidden": true
   },
   "outputs": [],
   "source": [
    "df.experience.hist()\n",
    "# Por la grafica podemos ver que no están distribuidos uniformemente los datos, además de que tenemos nulos que \n",
    "# aun hay que distribuir.\n",
    "# como los datos están sesgados, y los nulos representan menos del 5%, podemos sustiturlos por la mediana"
   ]
  },
  {
   "cell_type": "markdown",
   "metadata": {
    "ExecuteTime": {
     "end_time": "2021-02-11T23:58:57.731563Z",
     "start_time": "2021-02-11T23:58:57.717563Z"
    },
    "hidden": true
   },
   "source": [
    "### Analisis Columna last_new_job"
   ]
  },
  {
   "cell_type": "code",
   "execution_count": null,
   "metadata": {
    "ExecuteTime": {
     "end_time": "2021-02-12T00:30:49.691430Z",
     "start_time": "2021-02-12T00:30:49.658421Z"
    },
    "hidden": true
   },
   "outputs": [],
   "source": [
    "last_new_job = df.groupby('last_new_job').agg({'last_new_job':'count'})\n",
    "last_new_job\n",
    "# Aqui podemos convertir el 'never' en 0 y tambien podemos convertirla en numero."
   ]
  },
  {
   "cell_type": "code",
   "execution_count": null,
   "metadata": {
    "ExecuteTime": {
     "end_time": "2021-02-12T00:30:50.871646Z",
     "start_time": "2021-02-12T00:30:50.847640Z"
    },
    "hidden": true
   },
   "outputs": [],
   "source": [
    "df.last_new_job= df.last_new_job.replace({'>4':5,'never':0})\n",
    "df['last_new_job']= pd.to_numeric(df['last_new_job'])\n",
    "last_new_job = df.groupby('last_new_job').agg({'last_new_job':'count'})\n",
    "last_new_job"
   ]
  },
  {
   "cell_type": "code",
   "execution_count": null,
   "metadata": {
    "ExecuteTime": {
     "end_time": "2021-02-12T00:30:52.524873Z",
     "start_time": "2021-02-12T00:30:52.480865Z"
    },
    "hidden": true
   },
   "outputs": [],
   "source": []
  },
  {
   "cell_type": "code",
   "execution_count": null,
   "metadata": {
    "ExecuteTime": {
     "end_time": "2021-02-12T00:30:54.194761Z",
     "start_time": "2021-02-12T00:30:53.780659Z"
    },
    "hidden": true
   },
   "outputs": [],
   "source": [
    "last_new_job.plot()\n",
    "# Tambien podemos ver que los datos se encuentran en una distribucion no uniforme, y tenemos menos del 5% de los datos\n",
    "# como nulos, por lo que podemos proceder a sustituirlos con la mediana."
   ]
  },
  {
   "cell_type": "markdown",
   "metadata": {
    "ExecuteTime": {
     "end_time": "2021-02-12T00:06:56.765883Z",
     "start_time": "2021-02-12T00:06:56.753875Z"
    },
    "hidden": true
   },
   "source": [
    "### Sustituyendo datos con la mediana"
   ]
  },
  {
   "cell_type": "code",
   "execution_count": null,
   "metadata": {
    "ExecuteTime": {
     "end_time": "2021-02-12T00:30:56.346337Z",
     "start_time": "2021-02-12T00:30:56.317330Z"
    },
    "hidden": true
   },
   "outputs": [],
   "source": [
    "# Validamos los nulos\n",
    "porcentaje_nulos(df)"
   ]
  },
  {
   "cell_type": "code",
   "execution_count": null,
   "metadata": {
    "ExecuteTime": {
     "end_time": "2021-02-12T00:30:56.713431Z",
     "start_time": "2021-02-12T00:30:56.612410Z"
    },
    "hidden": true
   },
   "outputs": [],
   "source": [
    "# Validamos los tipos de datos de las columnas que vamos a sustituir nulos con mediana\n",
    "df.describe()\n",
    "# ya nos aparecen en las estadisticas, por lo que podemos proceder"
   ]
  },
  {
   "cell_type": "code",
   "execution_count": null,
   "metadata": {
    "ExecuteTime": {
     "end_time": "2021-02-12T00:30:57.174528Z",
     "start_time": "2021-02-12T00:30:57.122521Z"
    },
    "hidden": true
   },
   "outputs": [],
   "source": [
    "imp = mdi.MeanMedianImputer(imputation_method='median')\n",
    "imp.fit(df)\n",
    "\n",
    "df = imp.transform(df)"
   ]
  },
  {
   "cell_type": "code",
   "execution_count": null,
   "metadata": {
    "ExecuteTime": {
     "end_time": "2021-02-12T00:30:57.995627Z",
     "start_time": "2021-02-12T00:30:57.972622Z"
    },
    "hidden": true
   },
   "outputs": [],
   "source": [
    "# Validamos que ya no tengamos nulos en esas dos columnas\n",
    "porcentaje_nulos(df)"
   ]
  },
  {
   "cell_type": "markdown",
   "metadata": {
    "ExecuteTime": {
     "end_time": "2021-02-12T00:12:50.343112Z",
     "start_time": "2021-02-12T00:12:50.326112Z"
    },
    "heading_collapsed": true
   },
   "source": [
    "# Analisis de Columnas que no podemos convertir a numero"
   ]
  },
  {
   "cell_type": "code",
   "execution_count": null,
   "metadata": {
    "ExecuteTime": {
     "end_time": "2021-02-12T00:31:22.581814Z",
     "start_time": "2021-02-12T00:31:22.552809Z"
    },
    "hidden": true
   },
   "outputs": [],
   "source": [
    "porcentaje_nulos(df)"
   ]
  },
  {
   "cell_type": "code",
   "execution_count": null,
   "metadata": {
    "ExecuteTime": {
     "end_time": "2021-02-12T00:31:23.644199Z",
     "start_time": "2021-02-12T00:31:23.633197Z"
    },
    "hidden": true
   },
   "outputs": [],
   "source": [
    "# por el % de nulos, unicamente podemos tratar con las columnas de 'enrolled_university' y 'education_level'\n",
    "# Para evitar generar mas columnas, vamos a usar Categorical Imputer"
   ]
  },
  {
   "cell_type": "code",
   "execution_count": null,
   "metadata": {
    "ExecuteTime": {
     "end_time": "2021-02-12T00:31:41.138180Z",
     "start_time": "2021-02-12T00:31:41.107171Z"
    },
    "hidden": true
   },
   "outputs": [],
   "source": [
    "imp = mdi.CategoricalImputer(fill_value='Faltante')\n",
    "imp.fit(df)\n",
    "df= imp.transform(df)"
   ]
  },
  {
   "cell_type": "code",
   "execution_count": null,
   "metadata": {
    "ExecuteTime": {
     "end_time": "2021-02-12T00:31:42.303053Z",
     "start_time": "2021-02-12T00:31:42.265044Z"
    },
    "hidden": true
   },
   "outputs": [],
   "source": [
    "porcentaje_nulos(df)"
   ]
  },
  {
   "cell_type": "markdown",
   "metadata": {
    "heading_collapsed": true
   },
   "source": [
    "# Tratamiento Variables Categoricas"
   ]
  },
  {
   "cell_type": "code",
   "execution_count": null,
   "metadata": {
    "ExecuteTime": {
     "end_time": "2021-02-12T03:46:36.647059Z",
     "start_time": "2021-02-12T03:46:36.599050Z"
    },
    "hidden": true
   },
   "outputs": [],
   "source": [
    "df.head()"
   ]
  },
  {
   "cell_type": "code",
   "execution_count": null,
   "metadata": {
    "ExecuteTime": {
     "end_time": "2021-02-12T04:01:54.846862Z",
     "start_time": "2021-02-12T04:01:54.718826Z"
    },
    "hidden": true
   },
   "outputs": [],
   "source": [
    "# Tenemos varias variables categoricas con multiples etiquetas, por lo que vamos a convertirlas con el 'Frequency Encoding'\n",
    "# para poder agruparlas y no tener tanto ruido\n",
    "count_enc = CountFrequencyEncoder(encoding_method='count')\n",
    "count_enc.fit(df)\n",
    "\n",
    "# Analizar si con un cluster podemos analizar la informacion\n",
    "# Probar tambien con Ordinal Encoder\n",
    "# Probar tambien con Rare Label Encoding"
   ]
  },
  {
   "cell_type": "code",
   "execution_count": null,
   "metadata": {
    "ExecuteTime": {
     "end_time": "2021-02-12T04:02:30.027238Z",
     "start_time": "2021-02-12T04:02:30.009230Z"
    },
    "hidden": true
   },
   "outputs": [],
   "source": [
    "count_enc.encoder_dict_"
   ]
  },
  {
   "cell_type": "code",
   "execution_count": null,
   "metadata": {
    "ExecuteTime": {
     "end_time": "2021-02-12T04:03:49.290008Z",
     "start_time": "2021-02-12T04:03:49.230990Z"
    },
    "hidden": true
   },
   "outputs": [],
   "source": [
    "df = count_enc.transform(df)\n",
    "df"
   ]
  },
  {
   "cell_type": "code",
   "execution_count": null,
   "metadata": {
    "ExecuteTime": {
     "end_time": "2021-02-12T04:13:28.249610Z",
     "start_time": "2021-02-12T04:13:27.517422Z"
    },
    "hidden": true
   },
   "outputs": [],
   "source": [
    "# Regresion Logistica\n",
    "\n",
    "# Separamos los datos\n",
    "x = df.drop('target',axis=1)\n",
    "y = df['target']\n",
    "x_train, x_test, y_train, y_test = train_test_split(x,y, test_size = .2, random_state=77)\n",
    "\n",
    "# Generamos el modelo\n",
    "reg_logistica = LogisticRegression(solver='liblinear')\n",
    "reg_logistica.fit(x_train, y_train)\n",
    "\n",
    "# Generamos las predicciones\n",
    "y_pred = reg_logistica.predict(x_test)\n",
    "df_predicciones = pd.DataFrame({'Actual':y_test,'Predicted':y_pred})\n",
    "\n",
    "# Obtenemos el Score\n",
    "score_test = reg_logistica.score(x_test,y_test)\n",
    "score_train = reg_logistica.score(x_train,y_train)\n",
    "print('Score Test:',score_test)\n",
    "print('Score Train:',score_train)"
   ]
  },
  {
   "cell_type": "code",
   "execution_count": null,
   "metadata": {
    "ExecuteTime": {
     "end_time": "2021-02-12T04:14:12.444210Z",
     "start_time": "2021-02-12T04:14:12.415205Z"
    },
    "hidden": true
   },
   "outputs": [],
   "source": [
    "df_predicciones"
   ]
  },
  {
   "cell_type": "markdown",
   "metadata": {
    "ExecuteTime": {
     "end_time": "2021-02-12T05:49:03.537660Z",
     "start_time": "2021-02-12T05:49:03.532657Z"
    },
    "heading_collapsed": true
   },
   "source": [
    "# Predicciones 1"
   ]
  },
  {
   "cell_type": "code",
   "execution_count": null,
   "metadata": {
    "ExecuteTime": {
     "end_time": "2021-02-23T02:09:08.457908Z",
     "start_time": "2021-02-23T02:09:07.108811Z"
    },
    "hidden": true
   },
   "outputs": [],
   "source": [
    "test = pd.read_csv('z_test.csv')\n",
    "test.set_index('enrollee_id', inplace=True, drop=True)\n",
    "\n",
    "# reemplazamos el mayor y menor que con el numero inmediato superior e inferior\n",
    "test.experience= test.experience.replace({'>20':21,'<1':0.9})\n",
    "\n",
    "# Convertimos los datos a numero y analizamos la distribucion\n",
    "test['experience']= pd.to_numeric(test['experience'])\n",
    "\n",
    "\n",
    "test.last_new_job= test.last_new_job.replace({'>4':5,'never':0})\n",
    "test['last_new_job']= pd.to_numeric(test['last_new_job'])\n",
    "\n",
    "\n",
    "imp = mdi.MeanMedianImputer(imputation_method='median')\n",
    "imp.fit(test)\n",
    "\n",
    "test = imp.transform(test)\n",
    "\n",
    "imp = mdi.CategoricalImputer(fill_value='Faltante')\n",
    "imp.fit(test)\n",
    "test= imp.transform(test)\n",
    "\n",
    "# Tenemos varias variables categoricas con multiples etiquetas, por lo que vamos a convertirlas con el 'Frequency Encoding'\n",
    "# para poder agruparlas y no tener tanto ruido\n",
    "count_enc = CountFrequencyEncoder(encoding_method='count')\n",
    "count_enc.fit(test)\n",
    "\n",
    "# Analizar si con un cluster podemos analizar la informacion\n",
    "# Probar tambien con Ordinal Encoder\n",
    "# Probar tambien con Rare Label Encoding\n",
    "\n",
    "test = count_enc.transform(test)\n",
    "\n",
    "# Generamos las predicciones\n",
    "y_pred = reg_logistica.predict(test)\n",
    "test['target'] = y_pred\n",
    "test['target'].to_csv('prueba2.csv')"
   ]
  },
  {
   "cell_type": "markdown",
   "metadata": {
    "ExecuteTime": {
     "end_time": "2021-02-23T02:09:30.300468Z",
     "start_time": "2021-02-23T02:09:30.283463Z"
    },
    "heading_collapsed": true
   },
   "source": [
    "# Predicciones (Mejor Modelo hasta el momento)"
   ]
  },
  {
   "cell_type": "code",
   "execution_count": 2,
   "metadata": {
    "ExecuteTime": {
     "end_time": "2021-02-27T17:24:51.477831Z",
     "start_time": "2021-02-27T17:24:51.182753Z"
    },
    "hidden": true
   },
   "outputs": [
    {
     "data": {
      "text/plain": [
       "enrollee_id\n",
       "8949     1.0\n",
       "29725    0.0\n",
       "11561    0.0\n",
       "33241    1.0\n",
       "21651    1.0\n",
       "Name: target, dtype: float64"
      ]
     },
     "execution_count": 2,
     "metadata": {},
     "output_type": "execute_result"
    }
   ],
   "source": [
    "df = pd.read_csv('z_train.csv')\n",
    "df.set_index('enrollee_id', inplace=True, drop=True)\n",
    "df.head()\n",
    "y = df['target']\n",
    "y.head()"
   ]
  },
  {
   "cell_type": "code",
   "execution_count": 3,
   "metadata": {
    "ExecuteTime": {
     "end_time": "2021-02-27T17:24:51.638869Z",
     "start_time": "2021-02-27T17:24:51.487830Z"
    },
    "hidden": true
   },
   "outputs": [
    {
     "data": {
      "text/html": [
       "<div>\n",
       "<style scoped>\n",
       "    .dataframe tbody tr th:only-of-type {\n",
       "        vertical-align: middle;\n",
       "    }\n",
       "\n",
       "    .dataframe tbody tr th {\n",
       "        vertical-align: top;\n",
       "    }\n",
       "\n",
       "    .dataframe thead th {\n",
       "        text-align: right;\n",
       "    }\n",
       "</style>\n",
       "<table border=\"1\" class=\"dataframe\">\n",
       "  <thead>\n",
       "    <tr style=\"text-align: right;\">\n",
       "      <th></th>\n",
       "      <th>city</th>\n",
       "      <th>city_development_index</th>\n",
       "      <th>gender</th>\n",
       "      <th>relevent_experience</th>\n",
       "      <th>enrolled_university</th>\n",
       "      <th>education_level</th>\n",
       "      <th>major_discipline</th>\n",
       "      <th>experience</th>\n",
       "      <th>company_size</th>\n",
       "      <th>company_type</th>\n",
       "      <th>last_new_job</th>\n",
       "      <th>training_hours</th>\n",
       "    </tr>\n",
       "    <tr>\n",
       "      <th>enrollee_id</th>\n",
       "      <th></th>\n",
       "      <th></th>\n",
       "      <th></th>\n",
       "      <th></th>\n",
       "      <th></th>\n",
       "      <th></th>\n",
       "      <th></th>\n",
       "      <th></th>\n",
       "      <th></th>\n",
       "      <th></th>\n",
       "      <th></th>\n",
       "      <th></th>\n",
       "    </tr>\n",
       "  </thead>\n",
       "  <tbody>\n",
       "    <tr>\n",
       "      <th>8949</th>\n",
       "      <td>city_103</td>\n",
       "      <td>0.920</td>\n",
       "      <td>Male</td>\n",
       "      <td>Has relevent experience</td>\n",
       "      <td>no_enrollment</td>\n",
       "      <td>Graduate</td>\n",
       "      <td>STEM</td>\n",
       "      <td>&gt;20</td>\n",
       "      <td>NaN</td>\n",
       "      <td>NaN</td>\n",
       "      <td>1</td>\n",
       "      <td>36</td>\n",
       "    </tr>\n",
       "    <tr>\n",
       "      <th>29725</th>\n",
       "      <td>city_40</td>\n",
       "      <td>0.776</td>\n",
       "      <td>Male</td>\n",
       "      <td>No relevent experience</td>\n",
       "      <td>no_enrollment</td>\n",
       "      <td>Graduate</td>\n",
       "      <td>STEM</td>\n",
       "      <td>15</td>\n",
       "      <td>50-99</td>\n",
       "      <td>Pvt Ltd</td>\n",
       "      <td>&gt;4</td>\n",
       "      <td>47</td>\n",
       "    </tr>\n",
       "    <tr>\n",
       "      <th>11561</th>\n",
       "      <td>city_21</td>\n",
       "      <td>0.624</td>\n",
       "      <td>NaN</td>\n",
       "      <td>No relevent experience</td>\n",
       "      <td>Full time course</td>\n",
       "      <td>Graduate</td>\n",
       "      <td>STEM</td>\n",
       "      <td>5</td>\n",
       "      <td>NaN</td>\n",
       "      <td>NaN</td>\n",
       "      <td>never</td>\n",
       "      <td>83</td>\n",
       "    </tr>\n",
       "    <tr>\n",
       "      <th>33241</th>\n",
       "      <td>city_115</td>\n",
       "      <td>0.789</td>\n",
       "      <td>NaN</td>\n",
       "      <td>No relevent experience</td>\n",
       "      <td>NaN</td>\n",
       "      <td>Graduate</td>\n",
       "      <td>Business Degree</td>\n",
       "      <td>&lt;1</td>\n",
       "      <td>NaN</td>\n",
       "      <td>Pvt Ltd</td>\n",
       "      <td>never</td>\n",
       "      <td>52</td>\n",
       "    </tr>\n",
       "    <tr>\n",
       "      <th>21651</th>\n",
       "      <td>city_176</td>\n",
       "      <td>0.764</td>\n",
       "      <td>NaN</td>\n",
       "      <td>Has relevent experience</td>\n",
       "      <td>Part time course</td>\n",
       "      <td>Graduate</td>\n",
       "      <td>STEM</td>\n",
       "      <td>11</td>\n",
       "      <td>NaN</td>\n",
       "      <td>NaN</td>\n",
       "      <td>1</td>\n",
       "      <td>24</td>\n",
       "    </tr>\n",
       "    <tr>\n",
       "      <th>...</th>\n",
       "      <td>...</td>\n",
       "      <td>...</td>\n",
       "      <td>...</td>\n",
       "      <td>...</td>\n",
       "      <td>...</td>\n",
       "      <td>...</td>\n",
       "      <td>...</td>\n",
       "      <td>...</td>\n",
       "      <td>...</td>\n",
       "      <td>...</td>\n",
       "      <td>...</td>\n",
       "      <td>...</td>\n",
       "    </tr>\n",
       "    <tr>\n",
       "      <th>7386</th>\n",
       "      <td>city_173</td>\n",
       "      <td>0.878</td>\n",
       "      <td>Male</td>\n",
       "      <td>No relevent experience</td>\n",
       "      <td>no_enrollment</td>\n",
       "      <td>Graduate</td>\n",
       "      <td>Humanities</td>\n",
       "      <td>14</td>\n",
       "      <td>NaN</td>\n",
       "      <td>NaN</td>\n",
       "      <td>1</td>\n",
       "      <td>42</td>\n",
       "    </tr>\n",
       "    <tr>\n",
       "      <th>31398</th>\n",
       "      <td>city_103</td>\n",
       "      <td>0.920</td>\n",
       "      <td>Male</td>\n",
       "      <td>Has relevent experience</td>\n",
       "      <td>no_enrollment</td>\n",
       "      <td>Graduate</td>\n",
       "      <td>STEM</td>\n",
       "      <td>14</td>\n",
       "      <td>NaN</td>\n",
       "      <td>NaN</td>\n",
       "      <td>4</td>\n",
       "      <td>52</td>\n",
       "    </tr>\n",
       "    <tr>\n",
       "      <th>24576</th>\n",
       "      <td>city_103</td>\n",
       "      <td>0.920</td>\n",
       "      <td>Male</td>\n",
       "      <td>Has relevent experience</td>\n",
       "      <td>no_enrollment</td>\n",
       "      <td>Graduate</td>\n",
       "      <td>STEM</td>\n",
       "      <td>&gt;20</td>\n",
       "      <td>50-99</td>\n",
       "      <td>Pvt Ltd</td>\n",
       "      <td>4</td>\n",
       "      <td>44</td>\n",
       "    </tr>\n",
       "    <tr>\n",
       "      <th>5756</th>\n",
       "      <td>city_65</td>\n",
       "      <td>0.802</td>\n",
       "      <td>Male</td>\n",
       "      <td>Has relevent experience</td>\n",
       "      <td>no_enrollment</td>\n",
       "      <td>High School</td>\n",
       "      <td>NaN</td>\n",
       "      <td>&lt;1</td>\n",
       "      <td>500-999</td>\n",
       "      <td>Pvt Ltd</td>\n",
       "      <td>2</td>\n",
       "      <td>97</td>\n",
       "    </tr>\n",
       "    <tr>\n",
       "      <th>23834</th>\n",
       "      <td>city_67</td>\n",
       "      <td>0.855</td>\n",
       "      <td>NaN</td>\n",
       "      <td>No relevent experience</td>\n",
       "      <td>no_enrollment</td>\n",
       "      <td>Primary School</td>\n",
       "      <td>NaN</td>\n",
       "      <td>2</td>\n",
       "      <td>NaN</td>\n",
       "      <td>NaN</td>\n",
       "      <td>1</td>\n",
       "      <td>127</td>\n",
       "    </tr>\n",
       "  </tbody>\n",
       "</table>\n",
       "<p>15326 rows × 12 columns</p>\n",
       "</div>"
      ],
      "text/plain": [
       "                 city  city_development_index gender      relevent_experience  \\\n",
       "enrollee_id                                                                     \n",
       "8949         city_103                   0.920   Male  Has relevent experience   \n",
       "29725         city_40                   0.776   Male   No relevent experience   \n",
       "11561         city_21                   0.624    NaN   No relevent experience   \n",
       "33241        city_115                   0.789    NaN   No relevent experience   \n",
       "21651        city_176                   0.764    NaN  Has relevent experience   \n",
       "...               ...                     ...    ...                      ...   \n",
       "7386         city_173                   0.878   Male   No relevent experience   \n",
       "31398        city_103                   0.920   Male  Has relevent experience   \n",
       "24576        city_103                   0.920   Male  Has relevent experience   \n",
       "5756          city_65                   0.802   Male  Has relevent experience   \n",
       "23834         city_67                   0.855    NaN   No relevent experience   \n",
       "\n",
       "            enrolled_university education_level major_discipline experience  \\\n",
       "enrollee_id                                                                   \n",
       "8949              no_enrollment        Graduate             STEM        >20   \n",
       "29725             no_enrollment        Graduate             STEM         15   \n",
       "11561          Full time course        Graduate             STEM          5   \n",
       "33241                       NaN        Graduate  Business Degree         <1   \n",
       "21651          Part time course        Graduate             STEM         11   \n",
       "...                         ...             ...              ...        ...   \n",
       "7386              no_enrollment        Graduate       Humanities         14   \n",
       "31398             no_enrollment        Graduate             STEM         14   \n",
       "24576             no_enrollment        Graduate             STEM        >20   \n",
       "5756              no_enrollment     High School              NaN         <1   \n",
       "23834             no_enrollment  Primary School              NaN          2   \n",
       "\n",
       "            company_size company_type last_new_job  training_hours  \n",
       "enrollee_id                                                         \n",
       "8949                 NaN          NaN            1              36  \n",
       "29725              50-99      Pvt Ltd           >4              47  \n",
       "11561                NaN          NaN        never              83  \n",
       "33241                NaN      Pvt Ltd        never              52  \n",
       "21651                NaN          NaN            1              24  \n",
       "...                  ...          ...          ...             ...  \n",
       "7386                 NaN          NaN            1              42  \n",
       "31398                NaN          NaN            4              52  \n",
       "24576              50-99      Pvt Ltd            4              44  \n",
       "5756             500-999      Pvt Ltd            2              97  \n",
       "23834                NaN          NaN            1             127  \n",
       "\n",
       "[15326 rows x 12 columns]"
      ]
     },
     "execution_count": 3,
     "metadata": {},
     "output_type": "execute_result"
    }
   ],
   "source": [
    "x = df.drop('target',axis=1)\n",
    "x"
   ]
  },
  {
   "cell_type": "code",
   "execution_count": 4,
   "metadata": {
    "ExecuteTime": {
     "end_time": "2021-02-27T17:24:51.712887Z",
     "start_time": "2021-02-27T17:24:51.668880Z"
    },
    "hidden": true
   },
   "outputs": [
    {
     "data": {
      "text/plain": [
       "experience              0.326243\n",
       "enrolled_university     1.970508\n",
       "last_new_job            2.211927\n",
       "education_level         2.407673\n",
       "major_discipline       14.596111\n",
       "gender                 23.496020\n",
       "company_size           30.888686\n",
       "company_type           31.913089\n",
       "dtype: float64"
      ]
     },
     "execution_count": 4,
     "metadata": {},
     "output_type": "execute_result"
    }
   ],
   "source": [
    "# Obtenemos el porcentaje de datos nulos por cada variable (lo hacemos funcion para poder llamarlo recurrentemente)\n",
    "def porcentaje_nulos(df):\n",
    "    nulos = (df.isnull().mean())*100\n",
    "    return nulos[nulos>0].sort_values(ascending=True)\n",
    "\n",
    "porcentaje_nulos(df)"
   ]
  },
  {
   "cell_type": "code",
   "execution_count": 5,
   "metadata": {
    "ExecuteTime": {
     "end_time": "2021-02-27T17:24:56.397733Z",
     "start_time": "2021-02-27T17:24:56.337196Z"
    },
    "hidden": true
   },
   "outputs": [],
   "source": [
    "imp = CategoricalImputer(fill_value='FaltaInfo', imputation_method='missing',return_object=False)\n",
    "temp = imp.fit_transform(x)"
   ]
  },
  {
   "cell_type": "code",
   "execution_count": 6,
   "metadata": {
    "ExecuteTime": {
     "end_time": "2021-02-27T17:24:56.475748Z",
     "start_time": "2021-02-27T17:24:56.406730Z"
    },
    "hidden": true
   },
   "outputs": [
    {
     "data": {
      "text/plain": [
       "Series([], dtype: float64)"
      ]
     },
     "execution_count": 6,
     "metadata": {},
     "output_type": "execute_result"
    }
   ],
   "source": [
    "porcentaje_nulos(temp)"
   ]
  },
  {
   "cell_type": "code",
   "execution_count": 7,
   "metadata": {
    "ExecuteTime": {
     "end_time": "2021-02-27T17:24:56.606297Z",
     "start_time": "2021-02-27T17:24:56.483749Z"
    },
    "hidden": true
   },
   "outputs": [
    {
     "data": {
      "text/plain": [
       "city                       object\n",
       "city_development_index    float64\n",
       "gender                     object\n",
       "relevent_experience        object\n",
       "enrolled_university        object\n",
       "education_level            object\n",
       "major_discipline           object\n",
       "experience                 object\n",
       "company_size               object\n",
       "company_type               object\n",
       "last_new_job               object\n",
       "training_hours              int64\n",
       "dtype: object"
      ]
     },
     "execution_count": 7,
     "metadata": {},
     "output_type": "execute_result"
    }
   ],
   "source": [
    "temp.dtypes"
   ]
  },
  {
   "cell_type": "code",
   "execution_count": 8,
   "metadata": {
    "ExecuteTime": {
     "end_time": "2021-02-27T17:25:00.154199Z",
     "start_time": "2021-02-27T17:24:59.873132Z"
    },
    "hidden": true
   },
   "outputs": [
    {
     "name": "stderr",
     "output_type": "stream",
     "text": [
      "c:\\users\\rikrdinii\\appdata\\local\\programs\\python\\python38-32\\lib\\site-packages\\feature_engine\\encoding\\rare_label.py:157: UserWarning: The number of unique categories for variable gender is less than that indicated in n_categories. Thus, all categories will be considered frequent\n",
      "  warnings.warn(\n",
      "c:\\users\\rikrdinii\\appdata\\local\\programs\\python\\python38-32\\lib\\site-packages\\feature_engine\\encoding\\rare_label.py:157: UserWarning: The number of unique categories for variable relevent_experience is less than that indicated in n_categories. Thus, all categories will be considered frequent\n",
      "  warnings.warn(\n",
      "c:\\users\\rikrdinii\\appdata\\local\\programs\\python\\python38-32\\lib\\site-packages\\feature_engine\\encoding\\rare_label.py:157: UserWarning: The number of unique categories for variable enrolled_university is less than that indicated in n_categories. Thus, all categories will be considered frequent\n",
      "  warnings.warn(\n"
     ]
    }
   ],
   "source": [
    "multi_cat = []\n",
    "\n",
    "for col in temp.columns:\n",
    "    if temp[col].dtypes == 'O':\n",
    "        multi_cat.append(col)\n",
    "# Usamos RareEncoder\n",
    "rare_encoder = RareLabelEncoder(\n",
    "    tol=0.05,\n",
    "    n_categories=5,\n",
    "    variables=multi_cat\n",
    ")\n",
    "\n",
    "transform = rare_encoder.fit_transform(temp)"
   ]
  },
  {
   "cell_type": "code",
   "execution_count": 9,
   "metadata": {
    "ExecuteTime": {
     "end_time": "2021-02-27T17:25:16.952153Z",
     "start_time": "2021-02-27T17:25:02.653918Z"
    },
    "hidden": true
   },
   "outputs": [
    {
     "data": {
      "image/png": "[encoded data removed]",
      "text/plain": [
       "<Figure size 432x288 with 1 Axes>"
      ]
     },
     "metadata": {},
     "output_type": "display_data"
    },
    {
     "data": {
      "image/png": "[encoded data removed]",
      "text/plain": [
       "<Figure size 432x288 with 1 Axes>"
      ]
     },
     "metadata": {},
     "output_type": "display_data"
    },
    {
     "data": {
      "image/png": "[encoded data removed]",
      "text/plain": [
       "<Figure size 432x288 with 1 Axes>"
      ]
     },
     "metadata": {},
     "output_type": "display_data"
    },
    {
     "data": {
      "image/png": "[encoded data removed]",
      "text/plain": [
       "<Figure size 432x288 with 1 Axes>"
      ]
     },
     "metadata": {},
     "output_type": "display_data"
    },
    {
     "data": {
      "image/png": "[encoded data removed]",
      "text/plain": [
       "<Figure size 432x288 with 1 Axes>"
      ]
     },
     "metadata": {},
     "output_type": "display_data"
    },
    {
     "data": {
      "image/png": "[encoded data removed]",
      "text/plain": [
       "<Figure size 432x288 with 1 Axes>"
      ]
     },
     "metadata": {},
     "output_type": "display_data"
    },
    {
     "data": {
      "image/png": "[encoded data removed]",
      "text/plain": [
       "<Figure size 432x288 with 1 Axes>"
      ]
     },
     "metadata": {},
     "output_type": "display_data"
    },
    {
     "data": {
      "image/png": "[encoded data removed]",
      "text/plain": [
       "<Figure size 432x288 with 1 Axes>"
      ]
     },
     "metadata": {},
     "output_type": "display_data"
    },
    {
     "data": {
      "image/png": "[encoded data removed]",
      "text/plain": [
       "<Figure size 432x288 with 1 Axes>"
      ]
     },
     "metadata": {},
     "output_type": "display_data"
    },
    {
     "data": {
      "image/png": "[encoded data removed]",
      "text/plain": [
       "<Figure size 432x288 with 1 Axes>"
      ]
     },
     "metadata": {},
     "output_type": "display_data"
    },
    {
     "data": {
      "image/png": "[encoded data removed]",
      "text/plain": [
       "<Figure size 432x288 with 1 Axes>"
      ]
     },
     "metadata": {},
     "output_type": "display_data"
    },
    {
     "data": {
      "image/png": "[encoded data removed]",
      "text/plain": [
       "<Figure size 432x288 with 1 Axes>"
      ]
     },
     "metadata": {},
     "output_type": "display_data"
    }
   ],
   "source": [
    "for col in transform:\n",
    "    transform[col].hist()\n",
    "    plt.title(col)\n",
    "    plt.show()"
   ]
  },
  {
   "cell_type": "code",
   "execution_count": 10,
   "metadata": {
    "ExecuteTime": {
     "end_time": "2021-02-27T17:25:17.347439Z",
     "start_time": "2021-02-27T17:25:16.978205Z"
    },
    "hidden": true
   },
   "outputs": [],
   "source": [
    "enc_freq = CountFrequencyEncoder(\n",
    "    encoding_method='frequency'\n",
    ")\n",
    "\n",
    "freq_df = enc_freq.fit_transform(transform)"
   ]
  },
  {
   "cell_type": "code",
   "execution_count": 11,
   "metadata": {
    "ExecuteTime": {
     "end_time": "2021-02-27T17:25:17.470037Z",
     "start_time": "2021-02-27T17:25:17.366956Z"
    },
    "hidden": true
   },
   "outputs": [
    {
     "data": {
      "text/plain": [
       "array([[-0.51220434,  0.7342865 ,  0.65893751, ..., -0.33590157,\n",
       "         1.13831435, -0.4873548 ],\n",
       "       [ 1.0001161 , -0.43965103,  0.65893751, ...,  0.83014587,\n",
       "        -0.54289038, -0.30425803],\n",
       "       [-1.03896323, -1.6788073 , -1.28480081, ..., -0.33590157,\n",
       "        -0.8421808 ,  0.29496776],\n",
       "       ...,\n",
       "       [-0.51220434,  0.7342865 ,  0.65893751, ...,  0.83014587,\n",
       "        -1.33456183, -0.35419351],\n",
       "       [ 1.0001161 , -0.22769008,  0.65893751, ...,  0.83014587,\n",
       "        -0.67849264,  0.52800001],\n",
       "       [ 1.0001161 ,  0.20438415, -1.28480081, ..., -0.33590157,\n",
       "         1.13831435,  1.02735483]])"
      ]
     },
     "execution_count": 11,
     "metadata": {},
     "output_type": "execute_result"
    }
   ],
   "source": [
    "standar = StandardScaler()\n",
    "\n",
    "df_scaled = standar.fit_transform(freq_df)\n",
    "df_scaled"
   ]
  },
  {
   "cell_type": "code",
   "execution_count": null,
   "metadata": {
    "ExecuteTime": {
     "end_time": "2021-02-27T17:02:21.658170Z",
     "start_time": "2021-02-27T17:02:21.627161Z"
    },
    "hidden": true
   },
   "outputs": [],
   "source": [
    "x_train, x_test, y_train, y_test = train_test_split(df_scaled,y, test_size = .2, random_state = 77)"
   ]
  },
  {
   "cell_type": "code",
   "execution_count": null,
   "metadata": {
    "ExecuteTime": {
     "end_time": "2021-02-27T17:02:22.729554Z",
     "start_time": "2021-02-27T17:02:22.501495Z"
    },
    "hidden": true
   },
   "outputs": [],
   "source": [
    "reg_log = LogisticRegression()\n",
    "reg_log.fit(x_train,y_train)"
   ]
  },
  {
   "cell_type": "code",
   "execution_count": null,
   "metadata": {
    "ExecuteTime": {
     "end_time": "2021-02-27T17:02:23.800404Z",
     "start_time": "2021-02-27T17:02:23.381296Z"
    },
    "hidden": true
   },
   "outputs": [],
   "source": [
    "predicciones = reg_log.predict(x_test)\n",
    "test = pd.DataFrame()\n",
    "test['target'] = predicciones\n",
    "test['target'].to_csv('prueba3.csv')\n",
    "\n"
   ]
  },
  {
   "cell_type": "code",
   "execution_count": null,
   "metadata": {
    "ExecuteTime": {
     "end_time": "2021-02-27T17:02:24.317053Z",
     "start_time": "2021-02-27T17:02:24.291048Z"
    },
    "hidden": true
   },
   "outputs": [],
   "source": [
    "train_score = reg_log.score(x_train,y_train)\n",
    "test_score = reg_log.score(x_test, y_test)"
   ]
  },
  {
   "cell_type": "code",
   "execution_count": null,
   "metadata": {
    "ExecuteTime": {
     "end_time": "2021-02-27T17:02:25.059237Z",
     "start_time": "2021-02-27T17:02:25.045234Z"
    },
    "hidden": true
   },
   "outputs": [],
   "source": [
    "print('Train Score: ',train_score)\n",
    "print('Test Score: ',test_score)"
   ]
  },
  {
   "cell_type": "code",
   "execution_count": null,
   "metadata": {
    "ExecuteTime": {
     "end_time": "2021-02-27T17:08:54.992904Z",
     "start_time": "2021-02-27T17:08:51.349315Z"
    },
    "hidden": true
   },
   "outputs": [],
   "source": [
    "# Tratamiento del de prueba\n",
    "df = pd.read_csv('z_test.csv')\n",
    "df.set_index('enrollee_id', inplace=True, drop=True)\n",
    "\n",
    "temp = imp.transform(df)\n",
    "\n",
    "transform = rare_encoder.transform(temp)\n",
    "\n",
    "freq_df = enc_freq.transform(transform)\n",
    "\n",
    "df_scaled = standar.transform(freq_df)\n",
    "\n",
    "predicciones = reg_log.predict(df_scaled)\n",
    "test = pd.DataFrame()\n",
    "test['target'] = predicciones\n",
    "test['enrollee_id'] = df.index\n",
    "test.to_csv('prueba3.csv',index=False)"
   ]
  },
  {
   "cell_type": "code",
   "execution_count": null,
   "metadata": {
    "ExecuteTime": {
     "end_time": "2021-02-27T17:08:55.039918Z",
     "start_time": "2021-02-27T17:08:54.997908Z"
    },
    "hidden": true
   },
   "outputs": [],
   "source": [
    "test"
   ]
  },
  {
   "cell_type": "markdown",
   "metadata": {
    "heading_collapsed": true
   },
   "source": [
    "# Fran Galan"
   ]
  },
  {
   "cell_type": "code",
   "execution_count": null,
   "metadata": {
    "ExecuteTime": {
     "end_time": "2021-02-27T17:19:48.324220Z",
     "start_time": "2021-02-27T17:19:48.286212Z"
    },
    "hidden": true
   },
   "outputs": [],
   "source": [
    "model = VotingClassifier(estimators=estimators, voting='hard')\n",
    "estimators = [('NN', MLPClassifier(hidden_layer_sizes=50, max_iter=200, random_state=1)),('DT', DecisionTreeClassifier(max_depth=13)), ('svc', SVC())]\n",
    "\n",
    "param_grid = [{'n_estimators': [100], 'max_features': [6] , 'max_depth': [40, 60, 80, 100], 'min_samples_leaf': [5]}]\n",
    "model = RandomForestClassifier(random_state=1)\n",
    "param_grid = [{'C': [1, 0.1, 10, 100, 1000], 'gamma': [1, 0.1, 0.01, 0.001, 0.0001], 'kernel': ['rbf']}]\n",
    "model = SVC()\n",
    "\n",
    "grid_search = GridSearchCV(model, param_grid, cv=5, scoring='roc_auc', return_train_score=True)\n",
    "grid_search.fit(X, y)\n",
    "\n",
    "grid_search.best_params_\n",
    "cvres = grid_search.cv_results_\n",
    "for mean_score, params in zip(cvres['mean_test_score'], cvres['params']):\n",
    "    print(mean_score, params)\n",
    "\n"
   ]
  },
  {
   "cell_type": "markdown",
   "metadata": {
    "heading_collapsed": true
   },
   "source": [
    "# Perceptron - No tan bueno"
   ]
  },
  {
   "cell_type": "code",
   "execution_count": 16,
   "metadata": {
    "ExecuteTime": {
     "end_time": "2021-02-27T17:26:28.366385Z",
     "start_time": "2021-02-27T17:26:28.341378Z"
    },
    "hidden": true
   },
   "outputs": [],
   "source": [
    "# usamos los datos ya limpios y ordenados del ejercicio anterios para el perceptro\n",
    "\n",
    "# Define class linear (step) perceptron\n",
    "class LPerceptron:\n",
    "    \n",
    "    #constructor\n",
    "    def __init__ (self):\n",
    "        self.w = None\n",
    "        self.b = None\n",
    "    \n",
    "    #activation function  \n",
    "    def activation(self, x):\n",
    "        return 1 if (np.dot(self.w, x) >= self.b) else 0\n",
    "    \n",
    "    #predict on data\n",
    "    def predict(self, X):\n",
    "        Y = []\n",
    "        for x in X:\n",
    "            result = self.activation(x)\n",
    "            Y.append(result)\n",
    "        return np.array(Y)\n",
    "\n",
    "    #train\n",
    "    def fit(self, X, Y, n_epochs=1, lr=1, val_split=0.1):\n",
    "        x_train, x_val, y_train, y_val = train_test_split(X, Y, test_size=val_split) #split train into train and val\n",
    "        \n",
    "        self.w = np.random.rand(X.shape[1])\n",
    "        self.b = 0.0\n",
    "        \n",
    "        accuracy = np.zeros((2,))\n",
    "        accuracy[0] = accuracy_score(y_train, self.predict(x_train))\n",
    "        accuracy[1] = accuracy_score(y_val, self.predict(x_val))\n",
    "        print(f\"Epoch: {0:3d} -- acc: {accuracy[0]:6.4f}, acc_val: {accuracy[1]:6.4f}\")\n",
    "        \n",
    "        accuracy = np.zeros((n_epochs, 2))\n",
    "        for epoch in range(n_epochs): #loop through epochs\n",
    "            for x, y in zip(x_train, y_train):  #loop through samples\n",
    "                y_pred = self.activation(x)\n",
    "                err = y - y_pred\n",
    "                self.w = self.w + lr * err * x  #LA se actualizan los pesos\n",
    "                self.b = self.b + lr * err      #LB se actualiza el sezgo, variable constante\n",
    "            accuracy[epoch, 0] = accuracy_score(y_train, self.predict(x_train))\n",
    "            accuracy[epoch, 1] = accuracy_score(y_val, self.predict(x_val))\n",
    "            print(f\"Epoch: {epoch+1:3d} -- acc: {accuracy[epoch, 0]:6.4f}, acc_val: {accuracy[epoch, 1]:6.4f}\")\n",
    "            \n",
    "        return accuracy"
   ]
  },
  {
   "cell_type": "code",
   "execution_count": 26,
   "metadata": {
    "ExecuteTime": {
     "end_time": "2021-02-27T17:36:30.988279Z",
     "start_time": "2021-02-27T17:36:30.466629Z"
    },
    "collapsed": true,
    "hidden": true
   },
   "outputs": [
    {
     "name": "stderr",
     "output_type": "stream",
     "text": [
      "c:\\users\\rikrdinii\\appdata\\local\\programs\\python\\python38-32\\lib\\site-packages\\feature_engine\\encoding\\rare_label.py:157: UserWarning: The number of unique categories for variable gender is less than that indicated in n_categories. Thus, all categories will be considered frequent\n",
      "  warnings.warn(\n",
      "c:\\users\\rikrdinii\\appdata\\local\\programs\\python\\python38-32\\lib\\site-packages\\feature_engine\\encoding\\rare_label.py:157: UserWarning: The number of unique categories for variable relevent_experience is less than that indicated in n_categories. Thus, all categories will be considered frequent\n",
      "  warnings.warn(\n",
      "c:\\users\\rikrdinii\\appdata\\local\\programs\\python\\python38-32\\lib\\site-packages\\feature_engine\\encoding\\rare_label.py:157: UserWarning: The number of unique categories for variable enrolled_university is less than that indicated in n_categories. Thus, all categories will be considered frequent\n",
      "  warnings.warn(\n"
     ]
    },
    {
     "data": {
      "text/plain": [
       "array([[ 0.7342865 , -0.4873548 ,  1.83918832, ..., -0.45482599,\n",
       "        -0.15039815, -0.38125497],\n",
       "       [-0.43965103, -0.30425803, -0.54371811, ...,  2.19864304,\n",
       "        -0.15039815, -0.38125497],\n",
       "       [-1.6788073 ,  0.29496776, -0.54371811, ..., -0.45482599,\n",
       "        -0.15039815,  2.6229166 ],\n",
       "       ...,\n",
       "       [ 0.7342865 , -0.35419351,  1.83918832, ..., -0.45482599,\n",
       "        -0.15039815, -0.38125497],\n",
       "       [-0.22769008,  0.52800001, -0.54371811, ..., -0.45482599,\n",
       "        -0.15039815, -0.38125497],\n",
       "       [ 0.20438415,  1.02735483, -0.54371811, ..., -0.45482599,\n",
       "        -0.15039815, -0.38125497]])"
      ]
     },
     "execution_count": 26,
     "metadata": {},
     "output_type": "execute_result"
    }
   ],
   "source": [
    "df = pd.read_csv('z_train.csv')\n",
    "df.set_index('enrollee_id', inplace=True, drop=True)\n",
    "df.head()\n",
    "y = df['target']\n",
    "x = df.drop('target',axis=1)\n",
    "\n",
    "\n",
    "\n",
    "imp = CategoricalImputer(fill_value='FaltaInfo', imputation_method='missing',return_object=False)\n",
    "temp = imp.fit_transform(x)\n",
    "multi_cat = []\n",
    "for col in temp.columns:\n",
    "    if temp[col].dtypes == 'O':\n",
    "        multi_cat.append(col)\n",
    "# Usamos RareEncoder\n",
    "rare_encoder = RareLabelEncoder(\n",
    "    tol=0.05,\n",
    "    n_categories=5,\n",
    "    variables=multi_cat\n",
    ")\n",
    "\n",
    "transform = rare_encoder.fit_transform(temp)\n",
    "\n",
    "x_dummies = pd.get_dummies(transform,drop_first=True)\n",
    "\n",
    "standar = StandardScaler()\n",
    "\n",
    "df_scaled = standar.fit_transform(x_dummies)\n",
    "df_scaled"
   ]
  },
  {
   "cell_type": "code",
   "execution_count": 27,
   "metadata": {
    "ExecuteTime": {
     "end_time": "2021-02-27T17:36:59.302977Z",
     "start_time": "2021-02-27T17:36:45.110272Z"
    },
    "collapsed": true,
    "hidden": true
   },
   "outputs": [
    {
     "name": "stdout",
     "output_type": "stream",
     "text": [
      "Epoch:   0 -- acc: 0.4726, acc_val: 0.4772\n",
      "Epoch:   1 -- acc: 0.2519, acc_val: 0.2626\n",
      "Epoch:   2 -- acc: 0.2519, acc_val: 0.2626\n",
      "Epoch:   3 -- acc: 0.2522, acc_val: 0.2635\n",
      "Epoch:   4 -- acc: 0.2523, acc_val: 0.2635\n",
      "Epoch:   5 -- acc: 0.2523, acc_val: 0.2635\n",
      "Epoch:   6 -- acc: 0.2523, acc_val: 0.2635\n",
      "Epoch:   7 -- acc: 0.2523, acc_val: 0.2635\n",
      "Epoch:   8 -- acc: 0.2523, acc_val: 0.2635\n",
      "Epoch:   9 -- acc: 0.2523, acc_val: 0.2635\n",
      "Epoch:  10 -- acc: 0.2523, acc_val: 0.2635\n",
      "Epoch:  11 -- acc: 0.2523, acc_val: 0.2635\n",
      "Epoch:  12 -- acc: 0.2523, acc_val: 0.2635\n",
      "Epoch:  13 -- acc: 0.2523, acc_val: 0.2635\n",
      "Epoch:  14 -- acc: 0.2523, acc_val: 0.2635\n",
      "Epoch:  15 -- acc: 0.2523, acc_val: 0.2635\n",
      "Epoch:  16 -- acc: 0.2523, acc_val: 0.2635\n",
      "Epoch:  17 -- acc: 0.2523, acc_val: 0.2635\n",
      "Epoch:  18 -- acc: 0.2523, acc_val: 0.2635\n",
      "Epoch:  19 -- acc: 0.2523, acc_val: 0.2635\n",
      "Epoch:  20 -- acc: 0.2523, acc_val: 0.2635\n",
      "Epoch:  21 -- acc: 0.2523, acc_val: 0.2635\n",
      "Epoch:  22 -- acc: 0.2523, acc_val: 0.2635\n",
      "Epoch:  23 -- acc: 0.2523, acc_val: 0.2635\n",
      "Epoch:  24 -- acc: 0.2523, acc_val: 0.2635\n",
      "Epoch:  25 -- acc: 0.2523, acc_val: 0.2635\n",
      "Epoch:  26 -- acc: 0.2523, acc_val: 0.2635\n",
      "Epoch:  27 -- acc: 0.2523, acc_val: 0.2635\n",
      "Epoch:  28 -- acc: 0.2523, acc_val: 0.2635\n",
      "Epoch:  29 -- acc: 0.2523, acc_val: 0.2635\n",
      "Epoch:  30 -- acc: 0.2523, acc_val: 0.2635\n",
      "Epoch:  31 -- acc: 0.2523, acc_val: 0.2635\n",
      "Epoch:  32 -- acc: 0.2523, acc_val: 0.2635\n",
      "Epoch:  33 -- acc: 0.2523, acc_val: 0.2635\n",
      "Epoch:  34 -- acc: 0.2523, acc_val: 0.2635\n",
      "Epoch:  35 -- acc: 0.2523, acc_val: 0.2635\n",
      "Epoch:  36 -- acc: 0.2523, acc_val: 0.2635\n",
      "Epoch:  37 -- acc: 0.2523, acc_val: 0.2635\n",
      "Epoch:  38 -- acc: 0.2523, acc_val: 0.2635\n",
      "Epoch:  39 -- acc: 0.2523, acc_val: 0.2635\n",
      "Epoch:  40 -- acc: 0.2523, acc_val: 0.2635\n",
      "Epoch:  41 -- acc: 0.2523, acc_val: 0.2635\n",
      "Epoch:  42 -- acc: 0.2523, acc_val: 0.2635\n",
      "Epoch:  43 -- acc: 0.2523, acc_val: 0.2635\n",
      "Epoch:  44 -- acc: 0.2523, acc_val: 0.2635\n",
      "Epoch:  45 -- acc: 0.2523, acc_val: 0.2635\n",
      "Epoch:  46 -- acc: 0.2523, acc_val: 0.2635\n",
      "Epoch:  47 -- acc: 0.2523, acc_val: 0.2635\n",
      "Epoch:  48 -- acc: 0.2523, acc_val: 0.2635\n",
      "Epoch:  49 -- acc: 0.2523, acc_val: 0.2635\n",
      "Epoch:  50 -- acc: 0.2523, acc_val: 0.2635\n"
     ]
    }
   ],
   "source": [
    "x_train, x_test, y_train, y_test = train_test_split(df_scaled,y, test_size = .2, random_state = 77)\n",
    "\n",
    "\n",
    "perceptron = LPerceptron()\n",
    "acc_history = perceptron.fit(x_train, y_train, n_epochs=50, lr=0.3, val_split=0.1)"
   ]
  },
  {
   "cell_type": "code",
   "execution_count": 28,
   "metadata": {
    "ExecuteTime": {
     "end_time": "2021-02-27T17:36:59.377996Z",
     "start_time": "2021-02-27T17:36:59.321982Z"
    },
    "hidden": true
   },
   "outputs": [
    {
     "name": "stdout",
     "output_type": "stream",
     "text": [
      "Test acc: 0.24624918460534898\n"
     ]
    }
   ],
   "source": [
    "y_test_hat = perceptron.predict(x_test)\n",
    "print(\"Test acc:\", accuracy_score(y_test_hat, y_test))"
   ]
  },
  {
   "cell_type": "code",
   "execution_count": 29,
   "metadata": {
    "ExecuteTime": {
     "end_time": "2021-02-27T17:42:41.197214Z",
     "start_time": "2021-02-27T17:42:37.464257Z"
    },
    "hidden": true
   },
   "outputs": [],
   "source": [
    "# Tratamiento del de prueba\n",
    "df = pd.read_csv('z_test.csv')\n",
    "df.set_index('enrollee_id', inplace=True, drop=True)\n",
    "\n",
    "temp = imp.transform(df)\n",
    "\n",
    "transform = rare_encoder.transform(temp)\n",
    "\n",
    "x_dummies = pd.get_dummies(transform,drop_first=True)\n",
    "\n",
    "df_scaled = standar.transform(x_dummies)\n",
    "\n",
    "predicciones = perceptron.predict(df_scaled)\n",
    "test = pd.DataFrame()\n",
    "test['target'] = predicciones\n",
    "test['enrollee_id'] = df.index\n",
    "test.to_csv('prueba4.csv',index=False)"
   ]
  },
  {
   "cell_type": "code",
   "execution_count": null,
   "metadata": {
    "hidden": true
   },
   "outputs": [],
   "source": []
  }
 ],
 "metadata": {
  "kernelspec": {
   "display_name": "Python 3",
   "language": "python",
   "name": "python3"
  },
  "language_info": {
   "codemirror_mode": {
    "name": "ipython",
    "version": 3
   },
   "file_extension": ".py",
   "mimetype": "text/x-python",
   "name": "python",
   "nbconvert_exporter": "python",
   "pygments_lexer": "ipython3",
   "version": "3.8.5"
  },
  "toc": {
   "base_numbering": 1,
   "nav_menu": {},
   "number_sections": true,
   "sideBar": true,
   "skip_h1_title": false,
   "title_cell": "Table of Contents",
   "title_sidebar": "Contents",
   "toc_cell": false,
   "toc_position": {},
   "toc_section_display": true,
   "toc_window_display": false
  }
 },
 "nbformat": 4,
 "nbformat_minor": 4
}
